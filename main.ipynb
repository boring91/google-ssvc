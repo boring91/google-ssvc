{
 "cells": [
  {
   "metadata": {
    "ExecuteTime": {
     "end_time": "2024-08-25T10:03:27.357882Z",
     "start_time": "2024-08-25T10:03:27.321484Z"
    }
   },
   "cell_type": "code",
   "source": [
    "%load_ext autoreload\n",
    "%autoreload 2"
   ],
   "id": "440d4bbea03c47b4",
   "outputs": [
    {
     "name": "stdout",
     "output_type": "stream",
     "text": [
      "The autoreload extension is already loaded. To reload it, use:\n",
      "  %reload_ext autoreload\n"
     ]
    }
   ],
   "execution_count": 18
  },
  {
   "metadata": {
    "ExecuteTime": {
     "end_time": "2024-08-25T10:03:27.769673Z",
     "start_time": "2024-08-25T10:03:27.735292Z"
    }
   },
   "cell_type": "code",
   "source": [
    "from dotenv import load_dotenv\n",
    "\n",
    "load_dotenv()"
   ],
   "id": "17c5a8fb4693a7bd",
   "outputs": [
    {
     "data": {
      "text/plain": [
       "True"
      ]
     },
     "execution_count": 19,
     "metadata": {},
     "output_type": "execute_result"
    }
   ],
   "execution_count": 19
  },
  {
   "metadata": {
    "ExecuteTime": {
     "end_time": "2024-08-25T10:03:28.492835Z",
     "start_time": "2024-08-25T10:03:28.457255Z"
    }
   },
   "cell_type": "code",
   "source": [
    "import os\n",
    "\n",
    "os.environ['TF_CPP_MIN_LOG_LEVEL'] = '3'"
   ],
   "id": "365d3b9aff59e88f",
   "outputs": [],
   "execution_count": 20
  },
  {
   "metadata": {
    "ExecuteTime": {
     "end_time": "2024-08-25T10:03:29.269122Z",
     "start_time": "2024-08-25T10:03:29.233754Z"
    }
   },
   "cell_type": "code",
   "source": [
    "from typing import List\n",
    "from exploitation_evaluator import ExploitationEvaluator\n",
    "\n",
    "\n",
    "def evaluate(evaluator: ExploitationEvaluator) -> List[dict]:\n",
    "    data = {\n",
    "        'CVE-2024-21762': 'active',\n",
    "        'CVE-2024-8142': 'poc',\n",
    "        'CVE-2024-45244': 'none',\n",
    "        'CVE-2024-8140': 'poc',\n",
    "        'CVE-2024-8133': 'poc',\n",
    "        'CVE-2024-8131': 'poc',\n",
    "        'CVE-2024-45187': 'none',\n",
    "        'CVE-2024-8112': 'none',\n",
    "    }\n",
    "\n",
    "    hit = 0\n",
    "    total = 0\n",
    "    results = []\n",
    "\n",
    "    for (cve_id, gt) in data.items():\n",
    "        result = evaluator.evaluate(cve_id)\n",
    "        results.append(result)\n",
    "\n",
    "        print(f\"Predicted as {result['assessment']}. {('' if gt == result['assessment'] else f' (Actual is {gt}).')}\")\n",
    "\n",
    "        hit += (1 if gt == result['assessment'] else 0)\n",
    "        total += 1\n",
    "\n",
    "    print(f'Accuracy is {hit / float(total) * 100}%')\n",
    "\n",
    "    return results"
   ],
   "id": "8628396fad9ac0c4",
   "outputs": [],
   "execution_count": 21
  },
  {
   "metadata": {
    "ExecuteTime": {
     "end_time": "2024-08-25T10:07:04.387401Z",
     "start_time": "2024-08-25T10:06:34.474165Z"
    }
   },
   "cell_type": "code",
   "source": "gemini_results = evaluate(ExploitationEvaluator('gemini'))",
   "id": "ced25da667c311c2",
   "outputs": [
    {
     "name": "stderr",
     "output_type": "stream",
     "text": [
      "I0000 00:00:1724580394.543449 47534615 check_gcp_environment_no_op.cc:29] ALTS: Platforms other than Linux and Windows are not supported\n"
     ]
    },
    {
     "name": "stdout",
     "output_type": "stream",
     "text": [
      "Predicted as active. \n",
      "Predicted as poc. \n",
      "Predicted as poc.  (Actual is none).\n",
      "Predicted as poc. \n",
      "Predicted as poc. \n",
      "Predicted as poc. \n",
      "Predicted as poc.  (Actual is none).\n",
      "Predicted as poc.  (Actual is none).\n",
      "Accuracy is 62.5%\n"
     ]
    }
   ],
   "execution_count": 26
  },
  {
   "metadata": {
    "ExecuteTime": {
     "end_time": "2024-08-25T10:07:10.906297Z",
     "start_time": "2024-08-25T10:07:10.873697Z"
    }
   },
   "cell_type": "code",
   "source": "gemini_results",
   "id": "8fe68b46d16153ed",
   "outputs": [
    {
     "data": {
      "text/plain": [
       "[{'cve_id': 'CVE-2024-21762',\n",
       "  'assessment': 'active',\n",
       "  'description': \"This vulnerability has been added to CISA's Known Exploited Vulnerabilities Catalog (KEV) based on observed exploitation. A proof of concept is available on GitHub and was published by security researchers at Asset Note.\",\n",
       "  'confidence': 1.0},\n",
       " {'cve_id': 'CVE-2024-8142',\n",
       "  'assessment': 'poc',\n",
       "  'description': 'A proof-of-concept exploit code is available on GitHub at https://github.com/jadu101/CVE/blob/main/SourceCodester_Daily_Calories_Monitoring_Tool_delete_calorie_XSS.md. This code demonstrates how the vulnerability can be exploited to achieve cross-site scripting in the SourceCodester Daily Calories Monitoring Tool version 1.0.',\n",
       "  'confidence': 1.0},\n",
       " {'cve_id': 'CVE-2024-45244',\n",
       "  'assessment': 'poc',\n",
       "  'description': \"The Github commit referenced in the National Vulnerability Database entry for this CVE provides a fix for the issue. While this fix doesn't represent a working exploit, it does indicate that a proof of concept illustrating the vulnerability's potential impact likely exists.\",\n",
       "  'confidence': 0.8},\n",
       " {'cve_id': 'CVE-2024-8140',\n",
       "  'assessment': 'poc',\n",
       "  'description': 'A proof of concept exploit for CVE-2024-8140 is publicly available on GitHub in the jadu101/CVE repository. This exploit targets the Cross-Site Scripting (XSS) vulnerability in the SourceCodester Task Progress Tracker version 1.0.',\n",
       "  'confidence': 1.0},\n",
       " {'cve_id': 'CVE-2024-8133',\n",
       "  'assessment': 'poc',\n",
       "  'description': 'A proof-of-concept exploit has been published on GitHub by a security research team, demonstrating the command injection vulnerability in the affected D-Link devices.',\n",
       "  'confidence': 0.9},\n",
       " {'cve_id': 'CVE-2024-8131',\n",
       "  'assessment': 'poc',\n",
       "  'description': 'A proof of concept exploit was published on GitHub by a security research team.',\n",
       "  'confidence': 0.9},\n",
       " {'cve_id': 'CVE-2024-45187',\n",
       "  'assessment': 'poc',\n",
       "  'description': \"JFrog published a detailed analysis of the vulnerability affecting the Mage AI framework. The report, titled 'Mage AI: Deleted Users RCE (JFSA-2024-001039602),' explains how guest users retain high privileges even after account deletion. This enables them to execute code remotely via the Mage AI terminal server. The report, found at https://research.jfrog.com/vulnerabilities/mage-ai-deleted-users-rce-jfsa-2024-001039602/, provides a proof-of-concept exploit demonstrating the vulnerability.\",\n",
       "  'confidence': 0.9},\n",
       " {'cve_id': 'CVE-2024-8112',\n",
       "  'assessment': 'poc',\n",
       "  'description': 'The GitHub issue IAKGTV linked in the VulDB advisory includes a proof of concept exploit for this vulnerability.',\n",
       "  'confidence': 0.7}]"
      ]
     },
     "execution_count": 27,
     "metadata": {},
     "output_type": "execute_result"
    }
   ],
   "execution_count": 27
  },
  {
   "metadata": {
    "ExecuteTime": {
     "end_time": "2024-08-25T10:07:52.502903Z",
     "start_time": "2024-08-25T10:07:38.318062Z"
    }
   },
   "cell_type": "code",
   "source": "openai_results = evaluate(ExploitationEvaluator('openai'))",
   "id": "34aaa05ed55f9ac0",
   "outputs": [
    {
     "name": "stdout",
     "output_type": "stream",
     "text": [
      "Predicted as active. \n",
      "Predicted as poc. \n",
      "Predicted as none. \n",
      "Predicted as poc. \n",
      "Predicted as poc. \n",
      "Predicted as poc. \n",
      "Predicted as none. \n",
      "Predicted as poc.  (Actual is none).\n",
      "Accuracy is 87.5%\n"
     ]
    }
   ],
   "execution_count": 28
  },
  {
   "metadata": {
    "ExecuteTime": {
     "end_time": "2024-08-25T10:08:15.276825Z",
     "start_time": "2024-08-25T10:08:15.244970Z"
    }
   },
   "cell_type": "code",
   "source": "openai_results",
   "id": "28166cf9b0d3fc82",
   "outputs": [
    {
     "data": {
      "text/plain": [
       "[{'cve_id': 'CVE-2024-21762',\n",
       "  'assessment': 'active',\n",
       "  'description': \"CVE-2024-21762 is a critical vulnerability in Fortinet FortiOS and FortiProxy that allows unauthorized code execution via out-of-bounds write. Sources such as Attackerkb and CISA have reported active exploitation in the wild. Additionally, there are multiple GitHub repositories providing proof of concept for this CVE, suggesting it's being targeted by attackers. References confirm extensive exploitation in real-world scenarios.\",\n",
       "  'confidence': 1},\n",
       " {'cve_id': 'CVE-2024-8142',\n",
       "  'assessment': 'poc',\n",
       "  'description': 'The vulnerability in SourceCodester Daily Calories Monitoring Tool 1.0, which affects the file /endpoint/delete-calorie.php, has a publicly disclosed exploit indicated as a proof of concept. This is supported by a GitHub repository (https://github.com/jadu101/CVE/blob/main/SourceCodester_Daily_Calories_Monitoring_Tool_delete_calorie_XSS.md) detailing the exploit.',\n",
       "  'confidence': 0.9},\n",
       " {'cve_id': 'CVE-2024-45244',\n",
       "  'assessment': 'none',\n",
       "  'description': 'There are no known exploits for CVE-2024-45244. The CVE references a timestamp verification issue in Hyperledger Fabric through version 2.5.9, but there have been no reports or evidence of any exploits, proof of concept or active exploitation in the wild.',\n",
       "  'confidence': 1},\n",
       " {'cve_id': 'CVE-2024-8140',\n",
       "  'assessment': 'poc',\n",
       "  'description': 'The CVE-2024-8140 vulnerability in SourceCodester Task Progress Tracker 1.0, which involves a cross-site scripting issue in the update-task.php file, has a public exploit available on GitHub as demonstrated by the reference (https://github.com/jadu101/CVE/blob/main/SourceCodester_Task_Progress_Tracker_Update_Task_XSS.md). This indicates a proof of concept for exploitation exists.',\n",
       "  'confidence': 1},\n",
       " {'cve_id': 'CVE-2024-8133',\n",
       "  'assessment': 'poc',\n",
       "  'description': 'A critical command injection vulnerability in multiple D-Link products has been disclosed to the public, affecting devices like DNS-120, DNR-202L, DNS-315L, and others. The vulnerability affects the cgi_FMT_R5_SpareDsk_DiskMGR function, allowing remote attacks via manipulated HTTP POST requests. The disclosure is confirmed by detailed public documentation available on platforms such as GitHub, suggesting the presence of a proof of concept for the exploit.',\n",
       "  'confidence': 0.9},\n",
       " {'cve_id': 'CVE-2024-8131',\n",
       "  'assessment': 'poc',\n",
       "  'description': 'The CVE details indicate that a proof of concept for an exploit has been disclosed to the public. Specifically, the vulnerability in multiple D-Link products allows for command injection via the HTTP POST Request Handler, and this has been discussed in the public domain. Reports and references, such as the GitHub repository by BuaaIOTTeam and VulDB, confirm its availability. Additionally, the affected products are no longer supported, increasing the potential risk.',\n",
       "  'confidence': 1},\n",
       " {'cve_id': 'CVE-2024-45187',\n",
       "  'assessment': 'none',\n",
       "  'description': 'There are currently no reports of this vulnerability being exploited in the wild or any available proof of concept exploits. The information available is from a detailed vulnerability report by JFROG, but it does not mention any active or proof-of-concept exploits.',\n",
       "  'confidence': 0.9},\n",
       " {'cve_id': 'CVE-2024-8112',\n",
       "  'assessment': 'poc',\n",
       "  'description': \"A vulnerability in thinkgem JeeSite 5.3's Cookie Handler component allows for Cross Site Scripting (XSS) through manipulating the 'skinName' argument. The exploit for this vulnerability has been disclosed publicly and can be potentially used by malicious actors.\",\n",
       "  'confidence': 0.9}]"
      ]
     },
     "execution_count": 29,
     "metadata": {},
     "output_type": "execute_result"
    }
   ],
   "execution_count": 29
  },
  {
   "metadata": {},
   "cell_type": "code",
   "outputs": [],
   "execution_count": null,
   "source": "",
   "id": "fc9bfd2529a49e0c"
  }
 ],
 "metadata": {
  "kernelspec": {
   "display_name": "Python 3",
   "language": "python",
   "name": "python3"
  },
  "language_info": {
   "codemirror_mode": {
    "name": "ipython",
    "version": 2
   },
   "file_extension": ".py",
   "mimetype": "text/x-python",
   "name": "python",
   "nbconvert_exporter": "python",
   "pygments_lexer": "ipython2",
   "version": "2.7.6"
  }
 },
 "nbformat": 4,
 "nbformat_minor": 5
}
