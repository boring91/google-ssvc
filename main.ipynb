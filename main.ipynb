{
 "cells": [
  {
   "metadata": {
    "ExecuteTime": {
     "end_time": "2024-10-13T23:42:29.310765Z",
     "start_time": "2024-10-13T23:42:29.293703Z"
    }
   },
   "cell_type": "code",
   "source": [
    "%load_ext autoreload\n",
    "%autoreload 2"
   ],
   "id": "440d4bbea03c47b4",
   "outputs": [],
   "execution_count": 1
  },
  {
   "metadata": {
    "ExecuteTime": {
     "end_time": "2024-10-13T23:42:29.748513Z",
     "start_time": "2024-10-13T23:42:29.733581Z"
    }
   },
   "cell_type": "code",
   "source": [
    "from dotenv import load_dotenv\n",
    "\n",
    "load_dotenv()"
   ],
   "id": "17c5a8fb4693a7bd",
   "outputs": [
    {
     "data": {
      "text/plain": [
       "True"
      ]
     },
     "execution_count": 2,
     "metadata": {},
     "output_type": "execute_result"
    }
   ],
   "execution_count": 2
  },
  {
   "metadata": {
    "ExecuteTime": {
     "end_time": "2024-10-13T23:43:25.221234Z",
     "start_time": "2024-10-13T23:43:25.206977Z"
    }
   },
   "cell_type": "code",
   "source": [
    "import os\n",
    "\n",
    "os.environ['TF_CPP_MIN_LOG_LEVEL'] = '3'"
   ],
   "id": "365d3b9aff59e88f",
   "outputs": [],
   "execution_count": 7
  },
  {
   "metadata": {
    "ExecuteTime": {
     "end_time": "2024-10-13T23:43:27.469474Z",
     "start_time": "2024-10-13T23:43:25.813336Z"
    }
   },
   "cell_type": "code",
   "source": [
    "from ssvc_score_evaluator import SsvcScoreEvaluator\n",
    "\n",
    "ssvc_score_evaluator = SsvcScoreEvaluator()\n",
    "result = ssvc_score_evaluator.evaluate('CVE-2021-27104')"
   ],
   "id": "28166cf9b0d3fc82",
   "outputs": [
    {
     "ename": "TypeError",
     "evalue": "string indices must be integers",
     "output_type": "error",
     "traceback": [
      "\u001B[0;31m---------------------------------------------------------------------------\u001B[0m",
      "\u001B[0;31mTypeError\u001B[0m                                 Traceback (most recent call last)",
      "Cell \u001B[0;32mIn[8], line 4\u001B[0m\n\u001B[1;32m      1\u001B[0m \u001B[38;5;28;01mfrom\u001B[39;00m \u001B[38;5;21;01mssvc_score_evaluator\u001B[39;00m \u001B[38;5;28;01mimport\u001B[39;00m SsvcScoreEvaluator\n\u001B[1;32m      3\u001B[0m ssvc_score_evaluator \u001B[38;5;241m=\u001B[39m SsvcScoreEvaluator()\n\u001B[0;32m----> 4\u001B[0m result \u001B[38;5;241m=\u001B[39m \u001B[43mssvc_score_evaluator\u001B[49m\u001B[38;5;241;43m.\u001B[39;49m\u001B[43mevaluate\u001B[49m\u001B[43m(\u001B[49m\u001B[38;5;124;43m'\u001B[39;49m\u001B[38;5;124;43mCVE-2021-27104\u001B[39;49m\u001B[38;5;124;43m'\u001B[39;49m\u001B[43m)\u001B[49m\n",
      "File \u001B[0;32m~/Documents/projects/google-ssvc/ssvc_score_evaluator.py:85\u001B[0m, in \u001B[0;36mSsvcScoreEvaluator.evaluate\u001B[0;34m(self, cve_id)\u001B[0m\n\u001B[1;32m     83\u001B[0m \u001B[38;5;28;01mdef\u001B[39;00m \u001B[38;5;21mevaluate\u001B[39m(\u001B[38;5;28mself\u001B[39m, cve_id: \u001B[38;5;28mstr\u001B[39m) \u001B[38;5;241m-\u001B[39m\u001B[38;5;241m>\u001B[39m Optional[SsvcEvaluationResult]:\n\u001B[1;32m     84\u001B[0m     exploitation \u001B[38;5;241m=\u001B[39m \u001B[38;5;28mself\u001B[39m\u001B[38;5;241m.\u001B[39m_exploitation\u001B[38;5;241m.\u001B[39maggregate(cve_id)\n\u001B[0;32m---> 85\u001B[0m     automatability \u001B[38;5;241m=\u001B[39m \u001B[38;5;28;43mself\u001B[39;49m\u001B[38;5;241;43m.\u001B[39;49m\u001B[43m_automatability\u001B[49m\u001B[38;5;241;43m.\u001B[39;49m\u001B[43maggregate\u001B[49m\u001B[43m(\u001B[49m\u001B[43mcve_id\u001B[49m\u001B[43m)\u001B[49m\n\u001B[1;32m     86\u001B[0m     technical_impact \u001B[38;5;241m=\u001B[39m \u001B[38;5;28mself\u001B[39m\u001B[38;5;241m.\u001B[39m_technical_impact\u001B[38;5;241m.\u001B[39maggregate(cve_id)\n\u001B[1;32m     88\u001B[0m     mission_prevalence \u001B[38;5;241m=\u001B[39m \u001B[38;5;28mself\u001B[39m\u001B[38;5;241m.\u001B[39m_mission_prevalence\u001B[38;5;241m.\u001B[39maggregate(cve_id)\n",
      "File \u001B[0;32m~/Documents/projects/google-ssvc/evaluation_aggregators/base_evaluation_aggregator.py:17\u001B[0m, in \u001B[0;36mBaseEvaluationAggregator.aggregate\u001B[0;34m(self, cve_id)\u001B[0m\n\u001B[1;32m     15\u001B[0m \u001B[38;5;28;01mdef\u001B[39;00m \u001B[38;5;21maggregate\u001B[39m(\u001B[38;5;28mself\u001B[39m, cve_id: \u001B[38;5;28mstr\u001B[39m) \u001B[38;5;241m-\u001B[39m\u001B[38;5;241m>\u001B[39m Optional[EvaluationResult]:\n\u001B[1;32m     16\u001B[0m     \u001B[38;5;28;01mfor\u001B[39;00m unit \u001B[38;5;129;01min\u001B[39;00m \u001B[38;5;28mself\u001B[39m\u001B[38;5;241m.\u001B[39m_get_units():\n\u001B[0;32m---> 17\u001B[0m         result \u001B[38;5;241m=\u001B[39m \u001B[43munit\u001B[49m\u001B[38;5;241;43m.\u001B[39;49m\u001B[43mevaluate\u001B[49m\u001B[43m(\u001B[49m\u001B[43mcve_id\u001B[49m\u001B[43m)\u001B[49m\n\u001B[1;32m     18\u001B[0m         \u001B[38;5;28;01mif\u001B[39;00m result \u001B[38;5;129;01mis\u001B[39;00m \u001B[38;5;129;01mnot\u001B[39;00m \u001B[38;5;28;01mNone\u001B[39;00m:\n\u001B[1;32m     19\u001B[0m             \u001B[38;5;28;01mreturn\u001B[39;00m result\n",
      "File \u001B[0;32m~/Documents/projects/google-ssvc/evaluation_units/evaluation_unit.py:35\u001B[0m, in \u001B[0;36mEvaluationUnit.evaluate\u001B[0;34m(self, cve_id)\u001B[0m\n\u001B[1;32m     34\u001B[0m \u001B[38;5;28;01mdef\u001B[39;00m \u001B[38;5;21mevaluate\u001B[39m(\u001B[38;5;28mself\u001B[39m, cve_id: \u001B[38;5;28mstr\u001B[39m) \u001B[38;5;241m-\u001B[39m\u001B[38;5;241m>\u001B[39m Optional[EvaluationResult[\u001B[38;5;28mstr\u001B[39m]]:\n\u001B[0;32m---> 35\u001B[0m     \u001B[38;5;28;01mreturn\u001B[39;00m \u001B[38;5;28;43mself\u001B[39;49m\u001B[38;5;241;43m.\u001B[39;49m\u001B[43m_process_evaluation\u001B[49m\u001B[43m(\u001B[49m\u001B[43mcve_id\u001B[49m\u001B[38;5;241;43m.\u001B[39;49m\u001B[43mupper\u001B[49m\u001B[43m(\u001B[49m\u001B[43m)\u001B[49m\u001B[43m)\u001B[49m\n",
      "File \u001B[0;32m~/Documents/projects/google-ssvc/evaluation_units/automatability/vulnrichment_automatability_evaluation_unit.py:13\u001B[0m, in \u001B[0;36mVulnrichmentAutomatabilityEvaluationUnit._process_evaluation\u001B[0;34m(self, cve_id)\u001B[0m\n\u001B[1;32m     10\u001B[0m \u001B[38;5;28;01mdef\u001B[39;00m \u001B[38;5;21m_process_evaluation\u001B[39m(\u001B[38;5;28mself\u001B[39m, cve_id: \u001B[38;5;28mstr\u001B[39m) \u001B[38;5;241m-\u001B[39m\u001B[38;5;241m>\u001B[39m Optional[EvaluationResult[Literal[\u001B[38;5;124m'\u001B[39m\u001B[38;5;124myes\u001B[39m\u001B[38;5;124m'\u001B[39m, \u001B[38;5;124m'\u001B[39m\u001B[38;5;124mno\u001B[39m\u001B[38;5;124m'\u001B[39m]]]:\n\u001B[1;32m     11\u001B[0m     data_source \u001B[38;5;241m=\u001B[39m CisaVulnrichmentCveDataSource()\n\u001B[0;32m---> 13\u001B[0m     result \u001B[38;5;241m=\u001B[39m \u001B[43mdata_source\u001B[49m\u001B[38;5;241;43m.\u001B[39;49m\u001B[43mload\u001B[49m\u001B[43m(\u001B[49m\u001B[43mcve_id\u001B[49m\u001B[43m)\u001B[49m\n\u001B[1;32m     14\u001B[0m     \u001B[38;5;28;01mif\u001B[39;00m result \u001B[38;5;129;01mis\u001B[39;00m \u001B[38;5;28;01mNone\u001B[39;00m:\n\u001B[1;32m     15\u001B[0m         \u001B[38;5;28;01mreturn\u001B[39;00m \u001B[38;5;28;01mNone\u001B[39;00m\n",
      "File \u001B[0;32m~/Documents/projects/google-ssvc/data_sources/cve_data_source.py:24\u001B[0m, in \u001B[0;36mCveDataSource.load\u001B[0;34m(self, cve_id)\u001B[0m\n\u001B[1;32m     21\u001B[0m     \u001B[38;5;28;01mwith\u001B[39;00m \u001B[38;5;28mopen\u001B[39m(cve_file_path, \u001B[38;5;124m'\u001B[39m\u001B[38;5;124mr\u001B[39m\u001B[38;5;124m'\u001B[39m) \u001B[38;5;28;01mas\u001B[39;00m f:\n\u001B[1;32m     22\u001B[0m         \u001B[38;5;28;01mreturn\u001B[39;00m json\u001B[38;5;241m.\u001B[39mload(f)\n\u001B[0;32m---> 24\u001B[0m cve_data \u001B[38;5;241m=\u001B[39m \u001B[38;5;28;43mself\u001B[39;49m\u001B[38;5;241;43m.\u001B[39;49m\u001B[43m_load_data\u001B[49m\u001B[43m(\u001B[49m\u001B[43mcve_id\u001B[49m\u001B[43m)\u001B[49m\n\u001B[1;32m     26\u001B[0m \u001B[38;5;28;01mif\u001B[39;00m cve_data \u001B[38;5;129;01mis\u001B[39;00m \u001B[38;5;28;01mNone\u001B[39;00m:\n\u001B[1;32m     27\u001B[0m     \u001B[38;5;28;01mreturn\u001B[39;00m \u001B[38;5;28;01mNone\u001B[39;00m\n",
      "File \u001B[0;32m~/Documents/projects/google-ssvc/data_sources/cisa_vulnrichment_cve_data_source.py:37\u001B[0m, in \u001B[0;36mCisaVulnrichmentCveDataSource._load_data\u001B[0;34m(self, cve_id)\u001B[0m\n\u001B[1;32m     35\u001B[0m repo_root_url \u001B[38;5;241m=\u001B[39m \u001B[38;5;124mf\u001B[39m\u001B[38;5;124m'\u001B[39m\u001B[38;5;132;01m{\u001B[39;00mbase_url\u001B[38;5;132;01m}\u001B[39;00m\u001B[38;5;124m/repos/\u001B[39m\u001B[38;5;132;01m{\u001B[39;00mowner\u001B[38;5;132;01m}\u001B[39;00m\u001B[38;5;124m/\u001B[39m\u001B[38;5;132;01m{\u001B[39;00mrepo\u001B[38;5;132;01m}\u001B[39;00m\u001B[38;5;124m/contents\u001B[39m\u001B[38;5;124m'\u001B[39m\n\u001B[1;32m     36\u001B[0m top_level \u001B[38;5;241m=\u001B[39m requests\u001B[38;5;241m.\u001B[39mget(repo_root_url, headers\u001B[38;5;241m=\u001B[39mheaders)\u001B[38;5;241m.\u001B[39mjson()\n\u001B[0;32m---> 37\u001B[0m years \u001B[38;5;241m=\u001B[39m [x[\u001B[38;5;124m'\u001B[39m\u001B[38;5;124mname\u001B[39m\u001B[38;5;124m'\u001B[39m] \u001B[38;5;28;01mfor\u001B[39;00m x \u001B[38;5;129;01min\u001B[39;00m top_level \u001B[38;5;28;01mif\u001B[39;00m x[\u001B[38;5;124m'\u001B[39m\u001B[38;5;124mtype\u001B[39m\u001B[38;5;124m'\u001B[39m] \u001B[38;5;241m==\u001B[39m \u001B[38;5;124m'\u001B[39m\u001B[38;5;124mdir\u001B[39m\u001B[38;5;124m'\u001B[39m \u001B[38;5;129;01mand\u001B[39;00m _is_int(x[\u001B[38;5;124m'\u001B[39m\u001B[38;5;124mname\u001B[39m\u001B[38;5;124m'\u001B[39m])]\n\u001B[1;32m     38\u001B[0m \u001B[38;5;28;01mif\u001B[39;00m year \u001B[38;5;129;01mnot\u001B[39;00m \u001B[38;5;129;01min\u001B[39;00m years:\n\u001B[1;32m     39\u001B[0m     \u001B[38;5;28;01mreturn\u001B[39;00m \u001B[38;5;28;01mNone\u001B[39;00m\n",
      "File \u001B[0;32m~/Documents/projects/google-ssvc/data_sources/cisa_vulnrichment_cve_data_source.py:37\u001B[0m, in \u001B[0;36m<listcomp>\u001B[0;34m(.0)\u001B[0m\n\u001B[1;32m     35\u001B[0m repo_root_url \u001B[38;5;241m=\u001B[39m \u001B[38;5;124mf\u001B[39m\u001B[38;5;124m'\u001B[39m\u001B[38;5;132;01m{\u001B[39;00mbase_url\u001B[38;5;132;01m}\u001B[39;00m\u001B[38;5;124m/repos/\u001B[39m\u001B[38;5;132;01m{\u001B[39;00mowner\u001B[38;5;132;01m}\u001B[39;00m\u001B[38;5;124m/\u001B[39m\u001B[38;5;132;01m{\u001B[39;00mrepo\u001B[38;5;132;01m}\u001B[39;00m\u001B[38;5;124m/contents\u001B[39m\u001B[38;5;124m'\u001B[39m\n\u001B[1;32m     36\u001B[0m top_level \u001B[38;5;241m=\u001B[39m requests\u001B[38;5;241m.\u001B[39mget(repo_root_url, headers\u001B[38;5;241m=\u001B[39mheaders)\u001B[38;5;241m.\u001B[39mjson()\n\u001B[0;32m---> 37\u001B[0m years \u001B[38;5;241m=\u001B[39m [x[\u001B[38;5;124m'\u001B[39m\u001B[38;5;124mname\u001B[39m\u001B[38;5;124m'\u001B[39m] \u001B[38;5;28;01mfor\u001B[39;00m x \u001B[38;5;129;01min\u001B[39;00m top_level \u001B[38;5;28;01mif\u001B[39;00m \u001B[43mx\u001B[49m\u001B[43m[\u001B[49m\u001B[38;5;124;43m'\u001B[39;49m\u001B[38;5;124;43mtype\u001B[39;49m\u001B[38;5;124;43m'\u001B[39;49m\u001B[43m]\u001B[49m \u001B[38;5;241m==\u001B[39m \u001B[38;5;124m'\u001B[39m\u001B[38;5;124mdir\u001B[39m\u001B[38;5;124m'\u001B[39m \u001B[38;5;129;01mand\u001B[39;00m _is_int(x[\u001B[38;5;124m'\u001B[39m\u001B[38;5;124mname\u001B[39m\u001B[38;5;124m'\u001B[39m])]\n\u001B[1;32m     38\u001B[0m \u001B[38;5;28;01mif\u001B[39;00m year \u001B[38;5;129;01mnot\u001B[39;00m \u001B[38;5;129;01min\u001B[39;00m years:\n\u001B[1;32m     39\u001B[0m     \u001B[38;5;28;01mreturn\u001B[39;00m \u001B[38;5;28;01mNone\u001B[39;00m\n",
      "\u001B[0;31mTypeError\u001B[0m: string indices must be integers"
     ]
    }
   ],
   "execution_count": 8
  },
  {
   "metadata": {
    "ExecuteTime": {
     "end_time": "2024-10-13T23:15:06.400617Z",
     "start_time": "2024-10-13T23:15:06.374914Z"
    }
   },
   "cell_type": "code",
   "source": [
    "from dataclasses import asdict\n",
    "\n",
    "\n",
    "def display_dataclass(obj):\n",
    "    for key, value in asdict(obj).items():\n",
    "        print(f\"{key.upper()}: {value}\")\n",
    "\n",
    "\n",
    "display_dataclass(result)"
   ],
   "id": "394b21109cf80543",
   "outputs": [
    {
     "name": "stdout",
     "output_type": "stream",
     "text": [
      "ACTION: act\n",
      "AUTOMATABILITY: {'assessment': 'yes', 'confidence': 1.0, 'justification': 'CVE-2021-27104 in Accellion FTA allows for OS command execution via crafted POST requests, enabling remote code execution.'}\n",
      "EXPLOITATION: {'assessment': 'active', 'confidence': 1, 'justification': 'Found in the CISA KEV dataset'}\n",
      "EXPOSURE: {'assessment': 'open', 'confidence': 1, 'justification': 'Rule-based heuristic evaluation.'}\n",
      "MISSION_IMPACT: {'assessment': 'mission_failure', 'confidence': 0.9, 'justification': \"This CVE allows remote code execution on Accellion FTA servers, versions 9_12_370 and earlier.  This vulnerability was actively exploited in the wild by the FIN11 threat group, who are known to target high-value organizations. Successful exploitation would allow complete control of the affected system, which could lead to a total loss of availability and integrity, and potential exfiltration of sensitive data. Given the severity of this vulnerability, its known exploitation, and potential for complete system compromise, the impact on mission essential functions is deemed to be 'mission_failure'.\"}\n",
      "MISSION_PREVALENCE: {'assessment': 'essential', 'confidence': 0.9, 'justification': 'This vulnerability allows for OS command execution on affected Accellion FTA servers.  Given the critical nature of file transfer appliances for many businesses, especially those dealing with sensitive data, exploitation of this vulnerability could lead to the disruption of essential data flows, impacting core business operations, and potentially regulatory compliance. The widespread use of such appliances in sectors like finance and healthcare further underscores their essential nature for business continuity.'}\n",
      "PUBLIC_WELLBEING: {'assessment': 'material', 'confidence': 0.8, 'justification': 'This vulnerability allows for OS command execution, providing attackers with complete control over the affected Accellion FTA systems. Given the criticality often associated with file transfer appliances in handling sensitive data, successful exploitation could lead to significant financial harm, potentially resulting in bankruptcy for individuals or entities reliant on the compromised data.'}\n",
      "TECHNICAL_IMPACT: {'assessment': 'total', 'confidence': 0.9, 'justification': 'CVE-2021-27104 allows for OS command execution via crafted POST requests to various admin endpoints in Accellion FTA software versions 9_12_370 and earlier. The ability to execute OS commands on the underlying system implies complete control over the application and its data. An attacker can leverage this vulnerability to install and run arbitrary software, read and modify any data accessible to the application, and potentially gain full privileges. '}\n",
      "VALUE_DENSITY: {'assessment': 'centralized', 'confidence': 1, 'justification': 'Rule-based heuristic evaluation.'}\n"
     ]
    }
   ],
   "execution_count": 28
  }
 ],
 "metadata": {
  "kernelspec": {
   "display_name": "Python 3",
   "language": "python",
   "name": "python3"
  },
  "language_info": {
   "codemirror_mode": {
    "name": "ipython",
    "version": 2
   },
   "file_extension": ".py",
   "mimetype": "text/x-python",
   "name": "python",
   "nbconvert_exporter": "python",
   "pygments_lexer": "ipython2",
   "version": "2.7.6"
  }
 },
 "nbformat": 4,
 "nbformat_minor": 5
}
