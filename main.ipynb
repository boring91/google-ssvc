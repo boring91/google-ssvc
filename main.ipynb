{
 "cells": [
  {
   "metadata": {
    "ExecuteTime": {
     "end_time": "2024-09-15T04:18:49.784869Z",
     "start_time": "2024-09-15T04:18:49.767444Z"
    }
   },
   "cell_type": "code",
   "source": [
    "%load_ext autoreload\n",
    "%autoreload 2"
   ],
   "id": "440d4bbea03c47b4",
   "outputs": [],
   "execution_count": 1
  },
  {
   "metadata": {
    "ExecuteTime": {
     "end_time": "2024-09-15T04:18:50.467516Z",
     "start_time": "2024-09-15T04:18:50.446047Z"
    }
   },
   "cell_type": "code",
   "source": [
    "from dotenv import load_dotenv\n",
    "\n",
    "load_dotenv()"
   ],
   "id": "17c5a8fb4693a7bd",
   "outputs": [
    {
     "data": {
      "text/plain": [
       "True"
      ]
     },
     "execution_count": 2,
     "metadata": {},
     "output_type": "execute_result"
    }
   ],
   "execution_count": 2
  },
  {
   "metadata": {
    "ExecuteTime": {
     "end_time": "2024-09-15T04:22:28.077921Z",
     "start_time": "2024-09-15T04:22:28.065428Z"
    }
   },
   "cell_type": "code",
   "source": [
    "import os\n",
    "\n",
    "os.environ['TF_CPP_MIN_LOG_LEVEL'] = '3'"
   ],
   "id": "365d3b9aff59e88f",
   "outputs": [],
   "execution_count": 7
  },
  {
   "metadata": {
    "ExecuteTime": {
     "end_time": "2024-09-15T04:26:16.442290Z",
     "start_time": "2024-09-15T04:26:16.119232Z"
    }
   },
   "cell_type": "code",
   "source": [
    "from typing import List\n",
    "from evaluators.exploitation_evaluator import ExploitationEvaluator\n",
    "\n",
    "\n",
    "def evaluate(evaluator: ExploitationEvaluator) -> List[dict]:\n",
    "    data = {\n",
    "        'CVE-2024-21762': 'active',\n",
    "        'CVE-2024-8142': 'poc',\n",
    "        'CVE-2024-45244': 'none',\n",
    "        'CVE-2024-8140': 'poc',\n",
    "        'CVE-2024-8133': 'poc',\n",
    "        'CVE-2024-8131': 'poc',\n",
    "        'CVE-2024-45187': 'none',\n",
    "        'CVE-2024-8112': 'poc',\n",
    "    }\n",
    "\n",
    "    hit = 0\n",
    "    total = 0\n",
    "    results = []\n",
    "\n",
    "    for (cve_id, gt) in data.items():\n",
    "        result = evaluator.evaluate(cve_id)\n",
    "        results.append(result)\n",
    "\n",
    "        print(\n",
    "            f\"{cve_id} has been predicted as {result['assessment']}. {('' if gt == result['assessment'] else f' (Actual is {gt}).')}\")\n",
    "\n",
    "        hit += (1 if gt == result['assessment'] else 0)\n",
    "        total += 1\n",
    "\n",
    "    print(f'Accuracy is {hit / float(total) * 100}%')\n",
    "\n",
    "    return results"
   ],
   "id": "8628396fad9ac0c4",
   "outputs": [],
   "execution_count": 14
  },
  {
   "metadata": {
    "ExecuteTime": {
     "end_time": "2024-09-15T04:26:43.447846Z",
     "start_time": "2024-09-15T04:26:18.801808Z"
    }
   },
   "cell_type": "code",
   "source": "gemini_results = evaluate(ExploitationEvaluator('gemini'))",
   "id": "ced25da667c311c2",
   "outputs": [
    {
     "name": "stderr",
     "output_type": "stream",
     "text": [
      "WARNING: All log messages before absl::InitializeLog() is called are written to STDERR\n",
      "I0000 00:00:1726374382.756964 110186341 check_gcp_environment_no_op.cc:29] ALTS: Platforms other than Linux and Windows are not supported\n"
     ]
    },
    {
     "name": "stdout",
     "output_type": "stream",
     "text": [
      "CVE-2024-21762 has been predicted as active. \n",
      "CVE-2024-8142 has been predicted as poc. \n"
     ]
    },
    {
     "ename": "KeyboardInterrupt",
     "evalue": "",
     "output_type": "error",
     "traceback": [
      "\u001B[0;31m---------------------------------------------------------------------------\u001B[0m",
      "\u001B[0;31mKeyboardInterrupt\u001B[0m                         Traceback (most recent call last)",
      "Cell \u001B[0;32mIn[15], line 1\u001B[0m\n\u001B[0;32m----> 1\u001B[0m gemini_results \u001B[38;5;241m=\u001B[39m \u001B[43mevaluate\u001B[49m\u001B[43m(\u001B[49m\u001B[43mExploitationEvaluator\u001B[49m\u001B[43m(\u001B[49m\u001B[38;5;124;43m'\u001B[39;49m\u001B[38;5;124;43mgemini\u001B[39;49m\u001B[38;5;124;43m'\u001B[39;49m\u001B[43m)\u001B[49m\u001B[43m)\u001B[49m\n",
      "Cell \u001B[0;32mIn[14], line 22\u001B[0m, in \u001B[0;36mevaluate\u001B[0;34m(evaluator)\u001B[0m\n\u001B[1;32m     19\u001B[0m results \u001B[38;5;241m=\u001B[39m []\n\u001B[1;32m     21\u001B[0m \u001B[38;5;28;01mfor\u001B[39;00m (cve_id, gt) \u001B[38;5;129;01min\u001B[39;00m data\u001B[38;5;241m.\u001B[39mitems():\n\u001B[0;32m---> 22\u001B[0m     result \u001B[38;5;241m=\u001B[39m \u001B[43mevaluator\u001B[49m\u001B[38;5;241;43m.\u001B[39;49m\u001B[43mevaluate\u001B[49m\u001B[43m(\u001B[49m\u001B[43mcve_id\u001B[49m\u001B[43m)\u001B[49m\n\u001B[1;32m     23\u001B[0m     results\u001B[38;5;241m.\u001B[39mappend(result)\n\u001B[1;32m     25\u001B[0m     \u001B[38;5;28mprint\u001B[39m(\n\u001B[1;32m     26\u001B[0m         \u001B[38;5;124mf\u001B[39m\u001B[38;5;124m\"\u001B[39m\u001B[38;5;132;01m{\u001B[39;00mcve_id\u001B[38;5;132;01m}\u001B[39;00m\u001B[38;5;124m has been predicted as \u001B[39m\u001B[38;5;132;01m{\u001B[39;00mresult[\u001B[38;5;124m'\u001B[39m\u001B[38;5;124massessment\u001B[39m\u001B[38;5;124m'\u001B[39m]\u001B[38;5;132;01m}\u001B[39;00m\u001B[38;5;124m. \u001B[39m\u001B[38;5;132;01m{\u001B[39;00m(\u001B[38;5;124m'\u001B[39m\u001B[38;5;124m'\u001B[39m\u001B[38;5;250m \u001B[39m\u001B[38;5;28;01mif\u001B[39;00m\u001B[38;5;250m \u001B[39mgt\u001B[38;5;250m \u001B[39m\u001B[38;5;241m==\u001B[39m\u001B[38;5;250m \u001B[39mresult[\u001B[38;5;124m'\u001B[39m\u001B[38;5;124massessment\u001B[39m\u001B[38;5;124m'\u001B[39m]\u001B[38;5;250m \u001B[39m\u001B[38;5;28;01melse\u001B[39;00m\u001B[38;5;250m \u001B[39m\u001B[38;5;124mf\u001B[39m\u001B[38;5;124m'\u001B[39m\u001B[38;5;124m (Actual is \u001B[39m\u001B[38;5;132;01m{\u001B[39;00mgt\u001B[38;5;132;01m}\u001B[39;00m\u001B[38;5;124m).\u001B[39m\u001B[38;5;124m'\u001B[39m)\u001B[38;5;132;01m}\u001B[39;00m\u001B[38;5;124m\"\u001B[39m)\n",
      "File \u001B[0;32m~/Documents/projects/google-ssvc/evaluators/base_evaluator.py:21\u001B[0m, in \u001B[0;36mBaseEvaluator.evaluate\u001B[0;34m(self, cve_id)\u001B[0m\n\u001B[1;32m     18\u001B[0m cve_data \u001B[38;5;241m=\u001B[39m \u001B[38;5;28mself\u001B[39m\u001B[38;5;241m.\u001B[39m_get_cve_data(cve_id)\n\u001B[1;32m     20\u001B[0m query \u001B[38;5;241m=\u001B[39m \u001B[38;5;28mself\u001B[39m\u001B[38;5;241m.\u001B[39m_get_prompt(cve_id, cve_data)\n\u001B[0;32m---> 21\u001B[0m llm_response \u001B[38;5;241m=\u001B[39m \u001B[38;5;28;43mself\u001B[39;49m\u001B[38;5;241;43m.\u001B[39;49m\u001B[43m_llm_client\u001B[49m\u001B[38;5;241;43m.\u001B[39;49m\u001B[43mrespond\u001B[49m\u001B[43m(\u001B[49m\u001B[43mquery\u001B[49m\u001B[43m)\u001B[49m\n\u001B[1;32m     23\u001B[0m \u001B[38;5;28;01mreturn\u001B[39;00m _parse_llm_response(llm_response)\n",
      "File \u001B[0;32m~/Documents/projects/google-ssvc/llm_clients/gemini_llm_client.py:46\u001B[0m, in \u001B[0;36mGeminiLlmClient.respond\u001B[0;34m(self, query)\u001B[0m\n\u001B[1;32m     38\u001B[0m responses \u001B[38;5;241m=\u001B[39m \u001B[38;5;28mself\u001B[39m\u001B[38;5;241m.\u001B[39m_model\u001B[38;5;241m.\u001B[39mgenerate_content(\n\u001B[1;32m     39\u001B[0m     query,\n\u001B[1;32m     40\u001B[0m     generation_config\u001B[38;5;241m=\u001B[39m\u001B[38;5;28mself\u001B[39m\u001B[38;5;241m.\u001B[39m_generation_config,\n\u001B[1;32m     41\u001B[0m     safety_settings\u001B[38;5;241m=\u001B[39m\u001B[38;5;28mself\u001B[39m\u001B[38;5;241m.\u001B[39m_safety_settings,\n\u001B[1;32m     42\u001B[0m     stream\u001B[38;5;241m=\u001B[39m\u001B[38;5;28;01mTrue\u001B[39;00m)\n\u001B[1;32m     44\u001B[0m answer_parts \u001B[38;5;241m=\u001B[39m []\n\u001B[0;32m---> 46\u001B[0m \u001B[38;5;28;01mfor\u001B[39;00m response \u001B[38;5;129;01min\u001B[39;00m responses:\n\u001B[1;32m     47\u001B[0m     answer_parts\u001B[38;5;241m.\u001B[39mappend(response\u001B[38;5;241m.\u001B[39mtext)\n\u001B[1;32m     49\u001B[0m answer \u001B[38;5;241m=\u001B[39m \u001B[38;5;124m'\u001B[39m\u001B[38;5;124m'\u001B[39m\u001B[38;5;241m.\u001B[39mjoin(answer_parts)\n",
      "File \u001B[0;32m~/Documents/projects/google-ssvc/venv/lib/python3.10/site-packages/vertexai/generative_models/_generative_models.py:721\u001B[0m, in \u001B[0;36m_GenerativeModel._generate_content_streaming\u001B[0;34m(self, contents, generation_config, safety_settings, tools, tool_config)\u001B[0m\n\u001B[1;32m    696\u001B[0m \u001B[38;5;250m\u001B[39m\u001B[38;5;124;03m\"\"\"Generates content.\u001B[39;00m\n\u001B[1;32m    697\u001B[0m \n\u001B[1;32m    698\u001B[0m \u001B[38;5;124;03mArgs:\u001B[39;00m\n\u001B[0;32m   (...)\u001B[0m\n\u001B[1;32m    712\u001B[0m \u001B[38;5;124;03m    A stream of GenerationResponse objects\u001B[39;00m\n\u001B[1;32m    713\u001B[0m \u001B[38;5;124;03m\"\"\"\u001B[39;00m\n\u001B[1;32m    714\u001B[0m request \u001B[38;5;241m=\u001B[39m \u001B[38;5;28mself\u001B[39m\u001B[38;5;241m.\u001B[39m_prepare_request(\n\u001B[1;32m    715\u001B[0m     contents\u001B[38;5;241m=\u001B[39mcontents,\n\u001B[1;32m    716\u001B[0m     generation_config\u001B[38;5;241m=\u001B[39mgeneration_config,\n\u001B[0;32m   (...)\u001B[0m\n\u001B[1;32m    719\u001B[0m     tool_config\u001B[38;5;241m=\u001B[39mtool_config,\n\u001B[1;32m    720\u001B[0m )\n\u001B[0;32m--> 721\u001B[0m response_stream \u001B[38;5;241m=\u001B[39m \u001B[38;5;28;43mself\u001B[39;49m\u001B[38;5;241;43m.\u001B[39;49m\u001B[43m_prediction_client\u001B[49m\u001B[38;5;241;43m.\u001B[39;49m\u001B[43mstream_generate_content\u001B[49m\u001B[43m(\u001B[49m\n\u001B[1;32m    722\u001B[0m \u001B[43m    \u001B[49m\u001B[43mrequest\u001B[49m\u001B[38;5;241;43m=\u001B[39;49m\u001B[43mrequest\u001B[49m\n\u001B[1;32m    723\u001B[0m \u001B[43m\u001B[49m\u001B[43m)\u001B[49m\n\u001B[1;32m    724\u001B[0m \u001B[38;5;28;01mfor\u001B[39;00m chunk \u001B[38;5;129;01min\u001B[39;00m response_stream:\n\u001B[1;32m    725\u001B[0m     \u001B[38;5;28;01myield\u001B[39;00m \u001B[38;5;28mself\u001B[39m\u001B[38;5;241m.\u001B[39m_parse_response(chunk)\n",
      "File \u001B[0;32m~/Documents/projects/google-ssvc/venv/lib/python3.10/site-packages/google/cloud/aiplatform_v1beta1/services/prediction_service/client.py:2400\u001B[0m, in \u001B[0;36mPredictionServiceClient.stream_generate_content\u001B[0;34m(self, request, model, contents, retry, timeout, metadata)\u001B[0m\n\u001B[1;32m   2397\u001B[0m \u001B[38;5;28mself\u001B[39m\u001B[38;5;241m.\u001B[39m_validate_universe_domain()\n\u001B[1;32m   2399\u001B[0m \u001B[38;5;66;03m# Send the request.\u001B[39;00m\n\u001B[0;32m-> 2400\u001B[0m response \u001B[38;5;241m=\u001B[39m \u001B[43mrpc\u001B[49m\u001B[43m(\u001B[49m\n\u001B[1;32m   2401\u001B[0m \u001B[43m    \u001B[49m\u001B[43mrequest\u001B[49m\u001B[43m,\u001B[49m\n\u001B[1;32m   2402\u001B[0m \u001B[43m    \u001B[49m\u001B[43mretry\u001B[49m\u001B[38;5;241;43m=\u001B[39;49m\u001B[43mretry\u001B[49m\u001B[43m,\u001B[49m\n\u001B[1;32m   2403\u001B[0m \u001B[43m    \u001B[49m\u001B[43mtimeout\u001B[49m\u001B[38;5;241;43m=\u001B[39;49m\u001B[43mtimeout\u001B[49m\u001B[43m,\u001B[49m\n\u001B[1;32m   2404\u001B[0m \u001B[43m    \u001B[49m\u001B[43mmetadata\u001B[49m\u001B[38;5;241;43m=\u001B[39;49m\u001B[43mmetadata\u001B[49m\u001B[43m,\u001B[49m\n\u001B[1;32m   2405\u001B[0m \u001B[43m\u001B[49m\u001B[43m)\u001B[49m\n\u001B[1;32m   2407\u001B[0m \u001B[38;5;66;03m# Done; return the response.\u001B[39;00m\n\u001B[1;32m   2408\u001B[0m \u001B[38;5;28;01mreturn\u001B[39;00m response\n",
      "File \u001B[0;32m~/Documents/projects/google-ssvc/venv/lib/python3.10/site-packages/google/api_core/gapic_v1/method.py:131\u001B[0m, in \u001B[0;36m_GapicCallable.__call__\u001B[0;34m(self, timeout, retry, compression, *args, **kwargs)\u001B[0m\n\u001B[1;32m    128\u001B[0m \u001B[38;5;28;01mif\u001B[39;00m \u001B[38;5;28mself\u001B[39m\u001B[38;5;241m.\u001B[39m_compression \u001B[38;5;129;01mis\u001B[39;00m \u001B[38;5;129;01mnot\u001B[39;00m \u001B[38;5;28;01mNone\u001B[39;00m:\n\u001B[1;32m    129\u001B[0m     kwargs[\u001B[38;5;124m\"\u001B[39m\u001B[38;5;124mcompression\u001B[39m\u001B[38;5;124m\"\u001B[39m] \u001B[38;5;241m=\u001B[39m compression\n\u001B[0;32m--> 131\u001B[0m \u001B[38;5;28;01mreturn\u001B[39;00m \u001B[43mwrapped_func\u001B[49m\u001B[43m(\u001B[49m\u001B[38;5;241;43m*\u001B[39;49m\u001B[43margs\u001B[49m\u001B[43m,\u001B[49m\u001B[43m \u001B[49m\u001B[38;5;241;43m*\u001B[39;49m\u001B[38;5;241;43m*\u001B[39;49m\u001B[43mkwargs\u001B[49m\u001B[43m)\u001B[49m\n",
      "File \u001B[0;32m~/Documents/projects/google-ssvc/venv/lib/python3.10/site-packages/google/api_core/grpc_helpers.py:170\u001B[0m, in \u001B[0;36m_wrap_stream_errors.<locals>.error_remapped_callable\u001B[0;34m(*args, **kwargs)\u001B[0m\n\u001B[1;32m    165\u001B[0m     \u001B[38;5;66;03m# Auto-fetching the first result causes PubSub client's streaming pull\u001B[39;00m\n\u001B[1;32m    166\u001B[0m     \u001B[38;5;66;03m# to hang when re-opening the stream, thus we need examine the hacky\u001B[39;00m\n\u001B[1;32m    167\u001B[0m     \u001B[38;5;66;03m# hidden flag to see if pre-fetching is disabled.\u001B[39;00m\n\u001B[1;32m    168\u001B[0m     \u001B[38;5;66;03m# https://github.com/googleapis/python-pubsub/issues/93#issuecomment-630762257\u001B[39;00m\n\u001B[1;32m    169\u001B[0m     prefetch_first \u001B[38;5;241m=\u001B[39m \u001B[38;5;28mgetattr\u001B[39m(callable_, \u001B[38;5;124m\"\u001B[39m\u001B[38;5;124m_prefetch_first_result_\u001B[39m\u001B[38;5;124m\"\u001B[39m, \u001B[38;5;28;01mTrue\u001B[39;00m)\n\u001B[0;32m--> 170\u001B[0m     \u001B[38;5;28;01mreturn\u001B[39;00m \u001B[43m_StreamingResponseIterator\u001B[49m\u001B[43m(\u001B[49m\n\u001B[1;32m    171\u001B[0m \u001B[43m        \u001B[49m\u001B[43mresult\u001B[49m\u001B[43m,\u001B[49m\u001B[43m \u001B[49m\u001B[43mprefetch_first_result\u001B[49m\u001B[38;5;241;43m=\u001B[39;49m\u001B[43mprefetch_first\u001B[49m\n\u001B[1;32m    172\u001B[0m \u001B[43m    \u001B[49m\u001B[43m)\u001B[49m\n\u001B[1;32m    173\u001B[0m \u001B[38;5;28;01mexcept\u001B[39;00m grpc\u001B[38;5;241m.\u001B[39mRpcError \u001B[38;5;28;01mas\u001B[39;00m exc:\n\u001B[1;32m    174\u001B[0m     \u001B[38;5;28;01mraise\u001B[39;00m exceptions\u001B[38;5;241m.\u001B[39mfrom_grpc_error(exc) \u001B[38;5;28;01mfrom\u001B[39;00m \u001B[38;5;21;01mexc\u001B[39;00m\n",
      "File \u001B[0;32m~/Documents/projects/google-ssvc/venv/lib/python3.10/site-packages/google/api_core/grpc_helpers.py:92\u001B[0m, in \u001B[0;36m_StreamingResponseIterator.__init__\u001B[0;34m(self, wrapped, prefetch_first_result)\u001B[0m\n\u001B[1;32m     90\u001B[0m \u001B[38;5;28;01mtry\u001B[39;00m:\n\u001B[1;32m     91\u001B[0m     \u001B[38;5;28;01mif\u001B[39;00m prefetch_first_result:\n\u001B[0;32m---> 92\u001B[0m         \u001B[38;5;28mself\u001B[39m\u001B[38;5;241m.\u001B[39m_stored_first_result \u001B[38;5;241m=\u001B[39m \u001B[38;5;28;43mnext\u001B[39;49m\u001B[43m(\u001B[49m\u001B[38;5;28;43mself\u001B[39;49m\u001B[38;5;241;43m.\u001B[39;49m\u001B[43m_wrapped\u001B[49m\u001B[43m)\u001B[49m\n\u001B[1;32m     93\u001B[0m \u001B[38;5;28;01mexcept\u001B[39;00m \u001B[38;5;167;01mTypeError\u001B[39;00m:\n\u001B[1;32m     94\u001B[0m     \u001B[38;5;66;03m# It is possible the wrapped method isn't an iterable (a grpc.Call\u001B[39;00m\n\u001B[1;32m     95\u001B[0m     \u001B[38;5;66;03m# for instance). If this happens don't store the first result.\u001B[39;00m\n\u001B[1;32m     96\u001B[0m     \u001B[38;5;28;01mpass\u001B[39;00m\n",
      "File \u001B[0;32m~/Documents/projects/google-ssvc/venv/lib/python3.10/site-packages/grpc/_channel.py:543\u001B[0m, in \u001B[0;36m_Rendezvous.__next__\u001B[0;34m(self)\u001B[0m\n\u001B[1;32m    542\u001B[0m \u001B[38;5;28;01mdef\u001B[39;00m \u001B[38;5;21m__next__\u001B[39m(\u001B[38;5;28mself\u001B[39m):\n\u001B[0;32m--> 543\u001B[0m     \u001B[38;5;28;01mreturn\u001B[39;00m \u001B[38;5;28;43mself\u001B[39;49m\u001B[38;5;241;43m.\u001B[39;49m\u001B[43m_next\u001B[49m\u001B[43m(\u001B[49m\u001B[43m)\u001B[49m\n",
      "File \u001B[0;32m~/Documents/projects/google-ssvc/venv/lib/python3.10/site-packages/grpc/_channel.py:960\u001B[0m, in \u001B[0;36m_MultiThreadedRendezvous._next\u001B[0;34m(self)\u001B[0m\n\u001B[1;32m    954\u001B[0m \u001B[38;5;28;01mdef\u001B[39;00m \u001B[38;5;21m_response_ready\u001B[39m():\n\u001B[1;32m    955\u001B[0m     \u001B[38;5;28;01mreturn\u001B[39;00m \u001B[38;5;28mself\u001B[39m\u001B[38;5;241m.\u001B[39m_state\u001B[38;5;241m.\u001B[39mresponse \u001B[38;5;129;01mis\u001B[39;00m \u001B[38;5;129;01mnot\u001B[39;00m \u001B[38;5;28;01mNone\u001B[39;00m \u001B[38;5;129;01mor\u001B[39;00m (\n\u001B[1;32m    956\u001B[0m         cygrpc\u001B[38;5;241m.\u001B[39mOperationType\u001B[38;5;241m.\u001B[39mreceive_message \u001B[38;5;129;01mnot\u001B[39;00m \u001B[38;5;129;01min\u001B[39;00m \u001B[38;5;28mself\u001B[39m\u001B[38;5;241m.\u001B[39m_state\u001B[38;5;241m.\u001B[39mdue\n\u001B[1;32m    957\u001B[0m         \u001B[38;5;129;01mand\u001B[39;00m \u001B[38;5;28mself\u001B[39m\u001B[38;5;241m.\u001B[39m_state\u001B[38;5;241m.\u001B[39mcode \u001B[38;5;129;01mis\u001B[39;00m \u001B[38;5;129;01mnot\u001B[39;00m \u001B[38;5;28;01mNone\u001B[39;00m\n\u001B[1;32m    958\u001B[0m     )\n\u001B[0;32m--> 960\u001B[0m \u001B[43m_common\u001B[49m\u001B[38;5;241;43m.\u001B[39;49m\u001B[43mwait\u001B[49m\u001B[43m(\u001B[49m\u001B[38;5;28;43mself\u001B[39;49m\u001B[38;5;241;43m.\u001B[39;49m\u001B[43m_state\u001B[49m\u001B[38;5;241;43m.\u001B[39;49m\u001B[43mcondition\u001B[49m\u001B[38;5;241;43m.\u001B[39;49m\u001B[43mwait\u001B[49m\u001B[43m,\u001B[49m\u001B[43m \u001B[49m\u001B[43m_response_ready\u001B[49m\u001B[43m)\u001B[49m\n\u001B[1;32m    961\u001B[0m \u001B[38;5;28;01mif\u001B[39;00m \u001B[38;5;28mself\u001B[39m\u001B[38;5;241m.\u001B[39m_state\u001B[38;5;241m.\u001B[39mresponse \u001B[38;5;129;01mis\u001B[39;00m \u001B[38;5;129;01mnot\u001B[39;00m \u001B[38;5;28;01mNone\u001B[39;00m:\n\u001B[1;32m    962\u001B[0m     response \u001B[38;5;241m=\u001B[39m \u001B[38;5;28mself\u001B[39m\u001B[38;5;241m.\u001B[39m_state\u001B[38;5;241m.\u001B[39mresponse\n",
      "File \u001B[0;32m~/Documents/projects/google-ssvc/venv/lib/python3.10/site-packages/grpc/_common.py:156\u001B[0m, in \u001B[0;36mwait\u001B[0;34m(wait_fn, wait_complete_fn, timeout, spin_cb)\u001B[0m\n\u001B[1;32m    154\u001B[0m \u001B[38;5;28;01mif\u001B[39;00m timeout \u001B[38;5;129;01mis\u001B[39;00m \u001B[38;5;28;01mNone\u001B[39;00m:\n\u001B[1;32m    155\u001B[0m     \u001B[38;5;28;01mwhile\u001B[39;00m \u001B[38;5;129;01mnot\u001B[39;00m wait_complete_fn():\n\u001B[0;32m--> 156\u001B[0m         \u001B[43m_wait_once\u001B[49m\u001B[43m(\u001B[49m\u001B[43mwait_fn\u001B[49m\u001B[43m,\u001B[49m\u001B[43m \u001B[49m\u001B[43mMAXIMUM_WAIT_TIMEOUT\u001B[49m\u001B[43m,\u001B[49m\u001B[43m \u001B[49m\u001B[43mspin_cb\u001B[49m\u001B[43m)\u001B[49m\n\u001B[1;32m    157\u001B[0m \u001B[38;5;28;01melse\u001B[39;00m:\n\u001B[1;32m    158\u001B[0m     end \u001B[38;5;241m=\u001B[39m time\u001B[38;5;241m.\u001B[39mtime() \u001B[38;5;241m+\u001B[39m timeout\n",
      "File \u001B[0;32m~/Documents/projects/google-ssvc/venv/lib/python3.10/site-packages/grpc/_common.py:116\u001B[0m, in \u001B[0;36m_wait_once\u001B[0;34m(wait_fn, timeout, spin_cb)\u001B[0m\n\u001B[1;32m    111\u001B[0m \u001B[38;5;28;01mdef\u001B[39;00m \u001B[38;5;21m_wait_once\u001B[39m(\n\u001B[1;32m    112\u001B[0m     wait_fn: Callable[\u001B[38;5;241m.\u001B[39m\u001B[38;5;241m.\u001B[39m\u001B[38;5;241m.\u001B[39m, \u001B[38;5;28mbool\u001B[39m],\n\u001B[1;32m    113\u001B[0m     timeout: \u001B[38;5;28mfloat\u001B[39m,\n\u001B[1;32m    114\u001B[0m     spin_cb: Optional[Callable[[], \u001B[38;5;28;01mNone\u001B[39;00m]],\n\u001B[1;32m    115\u001B[0m ):\n\u001B[0;32m--> 116\u001B[0m     \u001B[43mwait_fn\u001B[49m\u001B[43m(\u001B[49m\u001B[43mtimeout\u001B[49m\u001B[38;5;241;43m=\u001B[39;49m\u001B[43mtimeout\u001B[49m\u001B[43m)\u001B[49m\n\u001B[1;32m    117\u001B[0m     \u001B[38;5;28;01mif\u001B[39;00m spin_cb \u001B[38;5;129;01mis\u001B[39;00m \u001B[38;5;129;01mnot\u001B[39;00m \u001B[38;5;28;01mNone\u001B[39;00m:\n\u001B[1;32m    118\u001B[0m         spin_cb()\n",
      "File \u001B[0;32m/opt/homebrew/Cellar/python@3.10/3.10.13/Frameworks/Python.framework/Versions/3.10/lib/python3.10/threading.py:324\u001B[0m, in \u001B[0;36mCondition.wait\u001B[0;34m(self, timeout)\u001B[0m\n\u001B[1;32m    322\u001B[0m \u001B[38;5;28;01melse\u001B[39;00m:\n\u001B[1;32m    323\u001B[0m     \u001B[38;5;28;01mif\u001B[39;00m timeout \u001B[38;5;241m>\u001B[39m \u001B[38;5;241m0\u001B[39m:\n\u001B[0;32m--> 324\u001B[0m         gotit \u001B[38;5;241m=\u001B[39m \u001B[43mwaiter\u001B[49m\u001B[38;5;241;43m.\u001B[39;49m\u001B[43macquire\u001B[49m\u001B[43m(\u001B[49m\u001B[38;5;28;43;01mTrue\u001B[39;49;00m\u001B[43m,\u001B[49m\u001B[43m \u001B[49m\u001B[43mtimeout\u001B[49m\u001B[43m)\u001B[49m\n\u001B[1;32m    325\u001B[0m     \u001B[38;5;28;01melse\u001B[39;00m:\n\u001B[1;32m    326\u001B[0m         gotit \u001B[38;5;241m=\u001B[39m waiter\u001B[38;5;241m.\u001B[39macquire(\u001B[38;5;28;01mFalse\u001B[39;00m)\n",
      "\u001B[0;31mKeyboardInterrupt\u001B[0m: "
     ]
    }
   ],
   "execution_count": 15
  },
  {
   "metadata": {
    "ExecuteTime": {
     "end_time": "2024-09-02T00:03:21.120570Z",
     "start_time": "2024-09-02T00:03:20.980869Z"
    }
   },
   "cell_type": "code",
   "source": "gemini_results",
   "id": "8fe68b46d16153ed",
   "outputs": [
    {
     "data": {
      "text/plain": [
       "[{'cve_id': 'CVE-2024-21762',\n",
       "  'assessment': 'active',\n",
       "  'justification': 'The Cybersecurity and Infrastructure Security Agency (CISA) added CVE-2024-21762 to its Known Exploited Vulnerabilities (KEV) Catalog on February 9, 2024, based on observed exploitation. AttackerKB has identified this vulnerability as being used by attackers in the wild and provides details of real-world attacks that have exploited this vulnerability. ',\n",
       "  'confidence': 1.0},\n",
       " {'cve_id': 'CVE-2024-8142',\n",
       "  'assessment': 'poc',\n",
       "  'justification': 'A proof of concept exploit for CVE-2024-8142 is publicly available on GitHub, demonstrating how the vulnerability can be used to achieve Cross-site Scripting (XSS). The repository is maintained by a security researcher, and while there is no indication of active exploitation in the wild, the availability of this exploit code significantly increases the risk of potential attacks.',\n",
       "  'confidence': 0.7},\n",
       " {'cve_id': 'CVE-2024-45244',\n",
       "  'assessment': 'none',\n",
       "  'justification': 'While a patch is available for this vulnerability in Hyperledger Fabric, there are no public reports or indications of any proof-of-concept exploits or active exploitation attempts.',\n",
       "  'confidence': 0.9},\n",
       " {'cve_id': 'CVE-2024-8140',\n",
       "  'assessment': 'poc',\n",
       "  'justification': \"A proof of concept for CVE-2024-8140 is publicly available on GitHub, specifically in the repository belonging to user 'jadu101'. This repository contains details on how the vulnerability can be exploited.\",\n",
       "  'confidence': 1.0},\n",
       " {'cve_id': 'CVE-2024-8133',\n",
       "  'assessment': 'poc',\n",
       "  'justification': 'A proof of concept for CVE-2024-8133 is publicly available on Github. The vulnerability affects multiple D-Link products, including but not limited to DNS-120, DNR-202L, DNS-315L, and DNS-320. The vulnerability exists in the HTTP POST Request Handler component, specifically in the cgi_FMT_R5_SpareDsk_DiskMGR function of the /cgi-bin/hd_config.cgi file.',\n",
       "  'confidence': 0.9},\n",
       " {'cve_id': 'CVE-2024-8131',\n",
       "  'assessment': 'poc',\n",
       "  'justification': 'A proof of concept for CVE-2024-8131 is publicly available on GitHub on the BuaaIOTTeam/Iot_Dlink_NAS repository. The repository provides a detailed breakdown of the vulnerability and its exploitation in the DNS_module_enable_disable.md file.',\n",
       "  'confidence': 0.9},\n",
       " {'cve_id': 'CVE-2024-45187',\n",
       "  'assessment': 'poc',\n",
       "  'justification': 'JFrog has published a detailed report on their research blog outlining the vulnerability in Mage AI. This report describes the methodology for exploiting the vulnerability, which allows guest users who remain logged in after account deletion to gain high privileges and execute arbitrary code remotely. ',\n",
       "  'confidence': 0.8},\n",
       " {'cve_id': 'CVE-2024-8112',\n",
       "  'assessment': 'poc',\n",
       "  'justification': \"The vulnerability, found in thinkgem JeeSite 5.3, affects the Cookie Handler component's processing of the file /js/a/login. A publicly disclosed exploit leveraging manipulation of the argument 'skinName' leads to cross-site scripting (XSS). This means the methodology for exploiting the vulnerability is known.\",\n",
       "  'confidence': 0.8}]"
      ]
     },
     "execution_count": 15,
     "metadata": {},
     "output_type": "execute_result"
    }
   ],
   "execution_count": 15
  },
  {
   "metadata": {
    "ExecuteTime": {
     "end_time": "2024-09-01T04:41:35.501949Z",
     "start_time": "2024-09-01T04:41:13.288959Z"
    }
   },
   "cell_type": "code",
   "source": "openai_results = evaluate(ExploitationEvaluator('openai'))",
   "id": "34aaa05ed55f9ac0",
   "outputs": [
    {
     "name": "stdout",
     "output_type": "stream",
     "text": [
      "CVE-2024-21762 has been predicted as active. \n",
      "CVE-2024-8142 has been predicted as poc. \n",
      "CVE-2024-45244 has been predicted as none. \n",
      "CVE-2024-8140 has been predicted as poc. \n",
      "CVE-2024-8133 has been predicted as active.  (Actual is poc).\n",
      "CVE-2024-8131 has been predicted as active.  (Actual is poc).\n",
      "CVE-2024-45187 has been predicted as none. \n",
      "CVE-2024-8112 has been predicted as poc. \n",
      "Accuracy is 75.0%\n"
     ]
    }
   ],
   "execution_count": 13
  },
  {
   "metadata": {
    "ExecuteTime": {
     "end_time": "2024-09-01T04:41:43.257243Z",
     "start_time": "2024-09-01T04:41:43.230750Z"
    }
   },
   "cell_type": "code",
   "source": "openai_results",
   "id": "28166cf9b0d3fc82",
   "outputs": [
    {
     "data": {
      "text/plain": [
       "[{'cve_id': 'CVE-2024-21762',\n",
       "  'assessment': 'active',\n",
       "  'justification': \"Reliable and confirmed evidence of real exploitation has been collected and publicly reported by multiple sources. Notably, the vulnerability has been added to CISA's Known Exploited Vulnerabilities (KEV) catalog with concrete examples of exploitation, and there is a public post discussing a proof of concept for remote code execution in FortiGate devices. This demonstrates that the vulnerability is being actively exploited in the wild.\",\n",
       "  'confidence': 1},\n",
       " {'cve_id': 'CVE-2024-8142',\n",
       "  'assessment': 'poc',\n",
       "  'justification': \"An exploit for this vulnerability has been publicly disclosed. Specifically, a proof of concept has been shared on a GitHub repository that demonstrates how an attacker can manipulate the 'calorie' argument in the Daily Calories Monitoring Tool to achieve cross-site scripting (XSS). References to this exploit can be found on VulDB and other related sources.\",\n",
       "  'confidence': 0.9},\n",
       " {'cve_id': 'CVE-2024-45244',\n",
       "  'assessment': 'none',\n",
       "  'justification': 'The provided information does not show any evidence of active exploitation, proof of concept, or rumors about the exploitation of this vulnerability. The sources reviewed are from Vulners and NIST databases, both of which provide standard descriptions, metrics, and references without mentioning any exploitation activities. Additionally, no reports indicate the presence of private exploit proofs or publicly available exploitation methodologies.',\n",
       "  'confidence': 1},\n",
       " {'cve_id': 'CVE-2024-8140',\n",
       "  'assessment': 'poc',\n",
       "  'justification': \"The exploit for the vulnerability CVE-2024-8140 has been disclosed to the public, specifically a proof of concept is available in locations such as GitHub. There are also multiple references indicating the availability of the exploit, including VulDB and SourceCodester's own website. However, there is no information confirming that the vulnerability has been utilized by attackers in the wild.\",\n",
       "  'confidence': 0.9},\n",
       " {'cve_id': 'CVE-2024-8133',\n",
       "  'assessment': 'active',\n",
       "  'justification': 'The vulnerability CVE-2024-8133 is a critical command injection flaw affecting multiple D-Link products. The exploit has been disclosed to the public and may be used. There is public evidence available, as demonstrated by the GitHub link provided by the BuaaIOTTeam showing the exploit methodology. This reliable and confirmed evidence of exploitation in real-world scenarios suggests that the state of exploitation is active.',\n",
       "  'confidence': 0.9},\n",
       " {'cve_id': 'CVE-2024-8131',\n",
       "  'assessment': 'active',\n",
       "  'justification': 'The vulnerability CVE-2024-8131, affecting multiple D-Link products, has publicly available elements indicating probable exploitation such as command injection via HTTP POST request. The exploit details have been disclosed publicly, as seen in the GitHub repository by BuaaIOTTeam, which provides implementation details around the vulnerable function module_enable_disable. This provides concrete evidence that attackers have the information needed to exploit the vulnerability.',\n",
       "  'confidence': 1},\n",
       " {'cve_id': 'CVE-2024-45187',\n",
       "  'assessment': 'none',\n",
       "  'justification': 'The information available for CVE-2024-45187 only covers the description of the vulnerability and does not mention any form of exploitation being found, discussed, or evidenced in the wild or even as a proof of concept (poc). The references, such as the report by JFROG, provide a technical overview of the vulnerability but do not mention any confirmed exploitation or available pocs.',\n",
       "  'confidence': 0.9},\n",
       " {'cve_id': 'CVE-2024-8112',\n",
       "  'assessment': 'poc',\n",
       "  'justification': \"There is a publicly disclosed exploit for this vulnerability, as reported by VulDB and detailed in the references provided (https://vuldb.com/?id.275633 and https://gitee.com/thinkgem/jeesite5/issues/IAKGTV). The existence of a public exploit suggests that the methodology for exploiting the vulnerability is known, meeting the criteria for 'poc'. There are no confirmed reports of active exploitation by attackers.\",\n",
       "  'confidence': 0.9}]"
      ]
     },
     "execution_count": 14,
     "metadata": {},
     "output_type": "execute_result"
    }
   ],
   "execution_count": 14
  }
 ],
 "metadata": {
  "kernelspec": {
   "display_name": "Python 3",
   "language": "python",
   "name": "python3"
  },
  "language_info": {
   "codemirror_mode": {
    "name": "ipython",
    "version": 2
   },
   "file_extension": ".py",
   "mimetype": "text/x-python",
   "name": "python",
   "nbconvert_exporter": "python",
   "pygments_lexer": "ipython2",
   "version": "2.7.6"
  }
 },
 "nbformat": 4,
 "nbformat_minor": 5
}
