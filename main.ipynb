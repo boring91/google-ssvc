{
 "cells": [
  {
   "metadata": {
    "ExecuteTime": {
     "end_time": "2024-09-01T04:32:36.347120Z",
     "start_time": "2024-09-01T04:32:36.331976Z"
    }
   },
   "cell_type": "code",
   "source": [
    "%load_ext autoreload\n",
    "%autoreload 2"
   ],
   "id": "440d4bbea03c47b4",
   "outputs": [],
   "execution_count": 1
  },
  {
   "metadata": {
    "ExecuteTime": {
     "end_time": "2024-09-01T04:32:36.550510Z",
     "start_time": "2024-09-01T04:32:36.535772Z"
    }
   },
   "cell_type": "code",
   "source": [
    "from dotenv import load_dotenv\n",
    "\n",
    "load_dotenv()"
   ],
   "id": "17c5a8fb4693a7bd",
   "outputs": [
    {
     "data": {
      "text/plain": [
       "True"
      ]
     },
     "execution_count": 2,
     "metadata": {},
     "output_type": "execute_result"
    }
   ],
   "execution_count": 2
  },
  {
   "metadata": {
    "ExecuteTime": {
     "end_time": "2024-09-01T04:32:36.721151Z",
     "start_time": "2024-09-01T04:32:36.712152Z"
    }
   },
   "cell_type": "code",
   "source": [
    "import os\n",
    "\n",
    "os.environ['TF_CPP_MIN_LOG_LEVEL'] = '3'"
   ],
   "id": "365d3b9aff59e88f",
   "outputs": [],
   "execution_count": 3
  },
  {
   "metadata": {
    "ExecuteTime": {
     "end_time": "2024-09-01T04:40:31.230461Z",
     "start_time": "2024-09-01T04:40:31.193032Z"
    }
   },
   "cell_type": "code",
   "source": [
    "from typing import List\n",
    "from exploitation_evaluator import ExploitationEvaluator\n",
    "\n",
    "\n",
    "def evaluate(evaluator: ExploitationEvaluator) -> List[dict]:\n",
    "    data = {\n",
    "        'CVE-2024-21762': 'active',\n",
    "        'CVE-2024-8142': 'poc',\n",
    "        'CVE-2024-45244': 'none',\n",
    "        'CVE-2024-8140': 'poc',\n",
    "        'CVE-2024-8133': 'poc',\n",
    "        'CVE-2024-8131': 'poc',\n",
    "        'CVE-2024-45187': 'none',\n",
    "        'CVE-2024-8112': 'poc',\n",
    "    }\n",
    "\n",
    "    hit = 0\n",
    "    total = 0\n",
    "    results = []\n",
    "\n",
    "    for (cve_id, gt) in data.items():\n",
    "        result = evaluator.evaluate(cve_id)\n",
    "        results.append(result)\n",
    "\n",
    "        print(f\"{cve_id} has been predicted as {result['assessment']}. {('' if gt == result['assessment'] else f' (Actual is {gt}).')}\")\n",
    "\n",
    "        hit += (1 if gt == result['assessment'] else 0)\n",
    "        total += 1\n",
    "\n",
    "    print(f'Accuracy is {hit / float(total) * 100}%')\n",
    "\n",
    "    return results"
   ],
   "id": "8628396fad9ac0c4",
   "outputs": [],
   "execution_count": 10
  },
  {
   "metadata": {
    "ExecuteTime": {
     "end_time": "2024-09-01T04:41:07.290877Z",
     "start_time": "2024-09-01T04:40:32.956992Z"
    }
   },
   "cell_type": "code",
   "source": "gemini_results = evaluate(ExploitationEvaluator('gemini'))",
   "id": "ced25da667c311c2",
   "outputs": [
    {
     "name": "stderr",
     "output_type": "stream",
     "text": [
      "I0000 00:00:1725165632.999448 71023544 check_gcp_environment_no_op.cc:29] ALTS: Platforms other than Linux and Windows are not supported\n"
     ]
    },
    {
     "name": "stdout",
     "output_type": "stream",
     "text": [
      "CVE-2024-21762 has been predicted as active. \n",
      "CVE-2024-8142 has been predicted as poc. \n",
      "CVE-2024-45244 has been predicted as none. \n",
      "CVE-2024-8140 has been predicted as poc. \n",
      "CVE-2024-8133 has been predicted as poc. \n",
      "CVE-2024-8131 has been predicted as poc. \n",
      "CVE-2024-45187 has been predicted as poc.  (Actual is none).\n",
      "CVE-2024-8112 has been predicted as poc. \n",
      "Accuracy is 87.5%\n"
     ]
    }
   ],
   "execution_count": 11
  },
  {
   "metadata": {
    "ExecuteTime": {
     "end_time": "2024-09-02T00:03:21.120570Z",
     "start_time": "2024-09-02T00:03:20.980869Z"
    }
   },
   "cell_type": "code",
   "source": "gemini_results",
   "id": "8fe68b46d16153ed",
   "outputs": [
    {
     "data": {
      "text/plain": [
       "[{'cve_id': 'CVE-2024-21762',\n",
       "  'assessment': 'active',\n",
       "  'justification': 'The Cybersecurity and Infrastructure Security Agency (CISA) added CVE-2024-21762 to its Known Exploited Vulnerabilities (KEV) Catalog on February 9, 2024, based on observed exploitation. AttackerKB has identified this vulnerability as being used by attackers in the wild and provides details of real-world attacks that have exploited this vulnerability. ',\n",
       "  'confidence': 1.0},\n",
       " {'cve_id': 'CVE-2024-8142',\n",
       "  'assessment': 'poc',\n",
       "  'justification': 'A proof of concept exploit for CVE-2024-8142 is publicly available on GitHub, demonstrating how the vulnerability can be used to achieve Cross-site Scripting (XSS). The repository is maintained by a security researcher, and while there is no indication of active exploitation in the wild, the availability of this exploit code significantly increases the risk of potential attacks.',\n",
       "  'confidence': 0.7},\n",
       " {'cve_id': 'CVE-2024-45244',\n",
       "  'assessment': 'none',\n",
       "  'justification': 'While a patch is available for this vulnerability in Hyperledger Fabric, there are no public reports or indications of any proof-of-concept exploits or active exploitation attempts.',\n",
       "  'confidence': 0.9},\n",
       " {'cve_id': 'CVE-2024-8140',\n",
       "  'assessment': 'poc',\n",
       "  'justification': \"A proof of concept for CVE-2024-8140 is publicly available on GitHub, specifically in the repository belonging to user 'jadu101'. This repository contains details on how the vulnerability can be exploited.\",\n",
       "  'confidence': 1.0},\n",
       " {'cve_id': 'CVE-2024-8133',\n",
       "  'assessment': 'poc',\n",
       "  'justification': 'A proof of concept for CVE-2024-8133 is publicly available on Github. The vulnerability affects multiple D-Link products, including but not limited to DNS-120, DNR-202L, DNS-315L, and DNS-320. The vulnerability exists in the HTTP POST Request Handler component, specifically in the cgi_FMT_R5_SpareDsk_DiskMGR function of the /cgi-bin/hd_config.cgi file.',\n",
       "  'confidence': 0.9},\n",
       " {'cve_id': 'CVE-2024-8131',\n",
       "  'assessment': 'poc',\n",
       "  'justification': 'A proof of concept for CVE-2024-8131 is publicly available on GitHub on the BuaaIOTTeam/Iot_Dlink_NAS repository. The repository provides a detailed breakdown of the vulnerability and its exploitation in the DNS_module_enable_disable.md file.',\n",
       "  'confidence': 0.9},\n",
       " {'cve_id': 'CVE-2024-45187',\n",
       "  'assessment': 'poc',\n",
       "  'justification': 'JFrog has published a detailed report on their research blog outlining the vulnerability in Mage AI. This report describes the methodology for exploiting the vulnerability, which allows guest users who remain logged in after account deletion to gain high privileges and execute arbitrary code remotely. ',\n",
       "  'confidence': 0.8},\n",
       " {'cve_id': 'CVE-2024-8112',\n",
       "  'assessment': 'poc',\n",
       "  'justification': \"The vulnerability, found in thinkgem JeeSite 5.3, affects the Cookie Handler component's processing of the file /js/a/login. A publicly disclosed exploit leveraging manipulation of the argument 'skinName' leads to cross-site scripting (XSS). This means the methodology for exploiting the vulnerability is known.\",\n",
       "  'confidence': 0.8}]"
      ]
     },
     "execution_count": 15,
     "metadata": {},
     "output_type": "execute_result"
    }
   ],
   "execution_count": 15
  },
  {
   "metadata": {
    "ExecuteTime": {
     "end_time": "2024-09-01T04:41:35.501949Z",
     "start_time": "2024-09-01T04:41:13.288959Z"
    }
   },
   "cell_type": "code",
   "source": "openai_results = evaluate(ExploitationEvaluator('openai'))",
   "id": "34aaa05ed55f9ac0",
   "outputs": [
    {
     "name": "stdout",
     "output_type": "stream",
     "text": [
      "CVE-2024-21762 has been predicted as active. \n",
      "CVE-2024-8142 has been predicted as poc. \n",
      "CVE-2024-45244 has been predicted as none. \n",
      "CVE-2024-8140 has been predicted as poc. \n",
      "CVE-2024-8133 has been predicted as active.  (Actual is poc).\n",
      "CVE-2024-8131 has been predicted as active.  (Actual is poc).\n",
      "CVE-2024-45187 has been predicted as none. \n",
      "CVE-2024-8112 has been predicted as poc. \n",
      "Accuracy is 75.0%\n"
     ]
    }
   ],
   "execution_count": 13
  },
  {
   "metadata": {
    "ExecuteTime": {
     "end_time": "2024-09-01T04:41:43.257243Z",
     "start_time": "2024-09-01T04:41:43.230750Z"
    }
   },
   "cell_type": "code",
   "source": "openai_results",
   "id": "28166cf9b0d3fc82",
   "outputs": [
    {
     "data": {
      "text/plain": [
       "[{'cve_id': 'CVE-2024-21762',\n",
       "  'assessment': 'active',\n",
       "  'justification': \"Reliable and confirmed evidence of real exploitation has been collected and publicly reported by multiple sources. Notably, the vulnerability has been added to CISA's Known Exploited Vulnerabilities (KEV) catalog with concrete examples of exploitation, and there is a public post discussing a proof of concept for remote code execution in FortiGate devices. This demonstrates that the vulnerability is being actively exploited in the wild.\",\n",
       "  'confidence': 1},\n",
       " {'cve_id': 'CVE-2024-8142',\n",
       "  'assessment': 'poc',\n",
       "  'justification': \"An exploit for this vulnerability has been publicly disclosed. Specifically, a proof of concept has been shared on a GitHub repository that demonstrates how an attacker can manipulate the 'calorie' argument in the Daily Calories Monitoring Tool to achieve cross-site scripting (XSS). References to this exploit can be found on VulDB and other related sources.\",\n",
       "  'confidence': 0.9},\n",
       " {'cve_id': 'CVE-2024-45244',\n",
       "  'assessment': 'none',\n",
       "  'justification': 'The provided information does not show any evidence of active exploitation, proof of concept, or rumors about the exploitation of this vulnerability. The sources reviewed are from Vulners and NIST databases, both of which provide standard descriptions, metrics, and references without mentioning any exploitation activities. Additionally, no reports indicate the presence of private exploit proofs or publicly available exploitation methodologies.',\n",
       "  'confidence': 1},\n",
       " {'cve_id': 'CVE-2024-8140',\n",
       "  'assessment': 'poc',\n",
       "  'justification': \"The exploit for the vulnerability CVE-2024-8140 has been disclosed to the public, specifically a proof of concept is available in locations such as GitHub. There are also multiple references indicating the availability of the exploit, including VulDB and SourceCodester's own website. However, there is no information confirming that the vulnerability has been utilized by attackers in the wild.\",\n",
       "  'confidence': 0.9},\n",
       " {'cve_id': 'CVE-2024-8133',\n",
       "  'assessment': 'active',\n",
       "  'justification': 'The vulnerability CVE-2024-8133 is a critical command injection flaw affecting multiple D-Link products. The exploit has been disclosed to the public and may be used. There is public evidence available, as demonstrated by the GitHub link provided by the BuaaIOTTeam showing the exploit methodology. This reliable and confirmed evidence of exploitation in real-world scenarios suggests that the state of exploitation is active.',\n",
       "  'confidence': 0.9},\n",
       " {'cve_id': 'CVE-2024-8131',\n",
       "  'assessment': 'active',\n",
       "  'justification': 'The vulnerability CVE-2024-8131, affecting multiple D-Link products, has publicly available elements indicating probable exploitation such as command injection via HTTP POST request. The exploit details have been disclosed publicly, as seen in the GitHub repository by BuaaIOTTeam, which provides implementation details around the vulnerable function module_enable_disable. This provides concrete evidence that attackers have the information needed to exploit the vulnerability.',\n",
       "  'confidence': 1},\n",
       " {'cve_id': 'CVE-2024-45187',\n",
       "  'assessment': 'none',\n",
       "  'justification': 'The information available for CVE-2024-45187 only covers the description of the vulnerability and does not mention any form of exploitation being found, discussed, or evidenced in the wild or even as a proof of concept (poc). The references, such as the report by JFROG, provide a technical overview of the vulnerability but do not mention any confirmed exploitation or available pocs.',\n",
       "  'confidence': 0.9},\n",
       " {'cve_id': 'CVE-2024-8112',\n",
       "  'assessment': 'poc',\n",
       "  'justification': \"There is a publicly disclosed exploit for this vulnerability, as reported by VulDB and detailed in the references provided (https://vuldb.com/?id.275633 and https://gitee.com/thinkgem/jeesite5/issues/IAKGTV). The existence of a public exploit suggests that the methodology for exploiting the vulnerability is known, meeting the criteria for 'poc'. There are no confirmed reports of active exploitation by attackers.\",\n",
       "  'confidence': 0.9}]"
      ]
     },
     "execution_count": 14,
     "metadata": {},
     "output_type": "execute_result"
    }
   ],
   "execution_count": 14
  }
 ],
 "metadata": {
  "kernelspec": {
   "display_name": "Python 3",
   "language": "python",
   "name": "python3"
  },
  "language_info": {
   "codemirror_mode": {
    "name": "ipython",
    "version": 2
   },
   "file_extension": ".py",
   "mimetype": "text/x-python",
   "name": "python",
   "nbconvert_exporter": "python",
   "pygments_lexer": "ipython2",
   "version": "2.7.6"
  }
 },
 "nbformat": 4,
 "nbformat_minor": 5
}
