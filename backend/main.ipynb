{
 "cells": [
  {
   "metadata": {
    "ExecuteTime": {
     "end_time": "2024-10-27T01:56:49.078365Z",
     "start_time": "2024-10-27T01:56:49.066154Z"
    }
   },
   "cell_type": "code",
   "source": [
    "%load_ext autoreload\n",
    "%autoreload 2"
   ],
   "id": "440d4bbea03c47b4",
   "outputs": [],
   "execution_count": 1
  },
  {
   "metadata": {
    "ExecuteTime": {
     "end_time": "2024-10-27T01:56:49.852246Z",
     "start_time": "2024-10-27T01:56:49.831972Z"
    }
   },
   "cell_type": "code",
   "source": [
    "from dotenv import load_dotenv\n",
    "\n",
    "load_dotenv()"
   ],
   "id": "17c5a8fb4693a7bd",
   "outputs": [
    {
     "data": {
      "text/plain": [
       "True"
      ]
     },
     "execution_count": 2,
     "metadata": {},
     "output_type": "execute_result"
    }
   ],
   "execution_count": 2
  },
  {
   "metadata": {
    "ExecuteTime": {
     "end_time": "2024-10-27T01:56:50.517816Z",
     "start_time": "2024-10-27T01:56:50.507320Z"
    }
   },
   "cell_type": "code",
   "source": [
    "import os\n",
    "\n",
    "os.environ['TF_CPP_MIN_LOG_LEVEL'] = '3'"
   ],
   "id": "365d3b9aff59e88f",
   "outputs": [],
   "execution_count": 3
  },
  {
   "metadata": {
    "ExecuteTime": {
     "end_time": "2024-10-27T01:57:46.676924Z",
     "start_time": "2024-10-27T01:57:44.518487Z"
    }
   },
   "cell_type": "code",
   "source": [
    "from ssvc_score_evaluator import SsvcScoreEvaluator\n",
    "\n",
    "ssvc_score_evaluator = SsvcScoreEvaluator()\n",
    "result = ssvc_score_evaluator.evaluate('CVE-2021-27104')"
   ],
   "id": "28166cf9b0d3fc82",
   "outputs": [
    {
     "name": "stderr",
     "output_type": "stream",
     "text": [
      "INFO:root:Fetching first result for query: SELECT * FROM cve_cache WHERE cve_id = %s AND source = %s with data: ('CVE-2021-27104', 'cisa_kev')\n",
      "INFO:root:Fetching first result for query: SELECT * FROM cve_cache WHERE cve_id = %s AND source = %s with data: ('CVE-2021-27104', 'cisa')\n",
      "INFO:root:Fetching first result for query: SELECT * FROM llm_evaluator_cache WHERE llm = %s AND cve_id = %s AND decision_point = %s with data: ('gemini', 'CVE-2021-27104', 'automatability')\n",
      "INFO:root:Fetching first result for query: SELECT * FROM cve_cache WHERE cve_id = %s AND source = %s with data: ('CVE-2021-27104', 'cisa')\n",
      "INFO:root:Fetching first result for query: SELECT * FROM llm_evaluator_cache WHERE llm = %s AND cve_id = %s AND decision_point = %s with data: ('gemini', 'CVE-2021-27104', 'technical_impact')\n",
      "INFO:root:Fetching first result for query: SELECT * FROM llm_evaluator_cache WHERE llm = %s AND cve_id = %s AND decision_point = %s with data: ('gemini', 'CVE-2021-27104', 'mission_prevalence')\n",
      "INFO:root:Fetching first result for query: SELECT * FROM llm_evaluator_cache WHERE llm = %s AND cve_id = %s AND decision_point = %s with data: ('gemini', 'CVE-2021-27104', 'public_wellbeing')\n",
      "INFO:root:Fetching first result for query: SELECT * FROM cve_cache WHERE cve_id = %s AND source = %s with data: ('CVE-2021-27104', 'nist')\n",
      "INFO:root:Fetching first result for query: SELECT * FROM llm_evaluator_cache WHERE llm = %s AND cve_id = %s AND decision_point = %s with data: ('gemini', 'CVE-2021-27104', 'mission_impact')\n",
      "INFO:root:Fetching first result for query: SELECT * FROM cve_cache WHERE cve_id = %s AND source = %s with data: ('CVE-2021-27104', 'nist')\n"
     ]
    }
   ],
   "execution_count": 5
  },
  {
   "metadata": {
    "ExecuteTime": {
     "end_time": "2024-10-27T01:57:50.099662Z",
     "start_time": "2024-10-27T01:57:50.071477Z"
    }
   },
   "cell_type": "code",
   "source": "result",
   "id": "4404d4724c21eab5",
   "outputs": [
    {
     "data": {
      "text/plain": [
       "SsvcEvaluationResult(action='act', automatability=EvaluationResult(assessment='yes', confidence=1.0, justification='CVE-2021-27104 in Accellion FTA allows OS command execution via a crafted POST request, enabling remote code execution.'), exploitation=EvaluationResult(assessment='active', confidence=1, justification='Found in the CISA KEV dataset'), exposure=EvaluationResult(assessment='open', confidence=1, justification='Rule-based heuristic evaluation.'), mission_impact=EvaluationResult(assessment='mission_failure', confidence=0.9, justification='This vulnerability allows for unauthenticated OS command injection on Accellion FTA versions 9_12_370 and earlier.  Successful exploitation allows for full system compromise, including potential data breaches and service disruption.  Given this is a file transfer appliance, and likely a critical element of data management within an organization, complete compromise of this system could lead to a cascading failure impacting the availability, integrity, and confidentiality of essential data, effectively leading to mission failure.'), mission_prevalence=EvaluationResult(assessment='essential', confidence=0.9, justification='Accellion FTA, affected by this vulnerability, is a secure file transfer solution often used by organizations in critical sectors like finance and healthcare. These organizations heavily rely on Accellion FTA for securely transferring sensitive information, making it essential for their core operations and business continuity.'), public_wellbeing=EvaluationResult(assessment='material', confidence=0.9, justification=\"Exploitation of CVE-2021-27104 allows attackers to perform OS command injection. Successful exploitation of this vulnerability could lead to the compromise of Accellion FTA servers. Attackers can leverage this access to steal sensitive data, disrupt services, or even use the compromised server as a pivot point for further attacks within a network.  Given the potential for significant data breaches, service disruptions, and potential financial losses from subsequent attacks, the impact is deemed 'material'.  While the vulnerability allows for significant control, there is no indication that it inherently leads to irreversible consequences such as loss of life, environmental damage, or societal collapse.\"), technical_impact=EvaluationResult(assessment='total', confidence=1.0, justification='CVE-2021-27104 allows for OS command execution via crafted POST requests sent to various admin endpoints. This means an attacker can execute arbitrary commands on the underlying operating system, giving them full control over the affected Accellion FTA system.'), value_density=EvaluationResult(assessment='centralized', confidence=1, justification='Rule-based heuristic evaluation.'))"
      ]
     },
     "execution_count": 6,
     "metadata": {},
     "output_type": "execute_result"
    }
   ],
   "execution_count": 6
  },
  {
   "metadata": {
    "ExecuteTime": {
     "end_time": "2024-10-13T23:15:06.400617Z",
     "start_time": "2024-10-13T23:15:06.374914Z"
    }
   },
   "cell_type": "code",
   "source": [
    "from dataclasses import asdict\n",
    "\n",
    "\n",
    "def display_dataclass(obj):\n",
    "    for key, value in asdict(obj).items():\n",
    "        print(f\"{key.upper()}: {value}\")\n",
    "\n",
    "\n",
    "display_dataclass(result)"
   ],
   "id": "394b21109cf80543",
   "outputs": [
    {
     "name": "stdout",
     "output_type": "stream",
     "text": [
      "ACTION: act\n",
      "AUTOMATABILITY: {'assessment': 'yes', 'confidence': 1.0, 'justification': 'CVE-2021-27104 in Accellion FTA allows for OS command execution via crafted POST requests, enabling remote code execution.'}\n",
      "EXPLOITATION: {'assessment': 'active', 'confidence': 1, 'justification': 'Found in the CISA KEV dataset'}\n",
      "EXPOSURE: {'assessment': 'open', 'confidence': 1, 'justification': 'Rule-based heuristic evaluation.'}\n",
      "MISSION_IMPACT: {'assessment': 'mission_failure', 'confidence': 0.9, 'justification': \"This CVE allows remote code execution on Accellion FTA servers, versions 9_12_370 and earlier.  This vulnerability was actively exploited in the wild by the FIN11 threat group, who are known to target high-value organizations. Successful exploitation would allow complete control of the affected system, which could lead to a total loss of availability and integrity, and potential exfiltration of sensitive data. Given the severity of this vulnerability, its known exploitation, and potential for complete system compromise, the impact on mission essential functions is deemed to be 'mission_failure'.\"}\n",
      "MISSION_PREVALENCE: {'assessment': 'essential', 'confidence': 0.9, 'justification': 'This vulnerability allows for OS command execution on affected Accellion FTA servers.  Given the critical nature of file transfer appliances for many businesses, especially those dealing with sensitive data, exploitation of this vulnerability could lead to the disruption of essential data flows, impacting core business operations, and potentially regulatory compliance. The widespread use of such appliances in sectors like finance and healthcare further underscores their essential nature for business continuity.'}\n",
      "PUBLIC_WELLBEING: {'assessment': 'material', 'confidence': 0.8, 'justification': 'This vulnerability allows for OS command execution, providing attackers with complete control over the affected Accellion FTA systems. Given the criticality often associated with file transfer appliances in handling sensitive data, successful exploitation could lead to significant financial harm, potentially resulting in bankruptcy for individuals or entities reliant on the compromised data.'}\n",
      "TECHNICAL_IMPACT: {'assessment': 'total', 'confidence': 0.9, 'justification': 'CVE-2021-27104 allows for OS command execution via crafted POST requests to various admin endpoints in Accellion FTA software versions 9_12_370 and earlier. The ability to execute OS commands on the underlying system implies complete control over the application and its data. An attacker can leverage this vulnerability to install and run arbitrary software, read and modify any data accessible to the application, and potentially gain full privileges. '}\n",
      "VALUE_DENSITY: {'assessment': 'centralized', 'confidence': 1, 'justification': 'Rule-based heuristic evaluation.'}\n"
     ]
    }
   ],
   "execution_count": 28
  }
 ],
 "metadata": {
  "kernelspec": {
   "display_name": "Python 3",
   "language": "python",
   "name": "python3"
  },
  "language_info": {
   "codemirror_mode": {
    "name": "ipython",
    "version": 2
   },
   "file_extension": ".py",
   "mimetype": "text/x-python",
   "name": "python",
   "nbconvert_exporter": "python",
   "pygments_lexer": "ipython2",
   "version": "2.7.6"
  }
 },
 "nbformat": 4,
 "nbformat_minor": 5
}
