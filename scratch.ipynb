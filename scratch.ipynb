{
 "cells": [
  {
   "metadata": {
    "ExecuteTime": {
     "end_time": "2024-09-18T00:51:02.724735Z",
     "start_time": "2024-09-18T00:51:02.697888Z"
    }
   },
   "cell_type": "code",
   "source": [
    "%load_ext autoreload\n",
    "%autoreload 2"
   ],
   "id": "3f749d5b0c61d49b",
   "outputs": [
    {
     "name": "stdout",
     "output_type": "stream",
     "text": [
      "The autoreload extension is already loaded. To reload it, use:\n",
      "  %reload_ext autoreload\n"
     ]
    }
   ],
   "execution_count": 3
  },
  {
   "metadata": {
    "ExecuteTime": {
     "end_time": "2024-09-18T00:51:43.108068Z",
     "start_time": "2024-09-18T00:51:43.070370Z"
    }
   },
   "cell_type": "code",
   "source": [
    "import os\n",
    "from dotenv import load_dotenv\n",
    "\n",
    "load_dotenv()\n",
    "\n",
    "os.environ['TF_CPP_MIN_LOG_LEVEL'] = '3'"
   ],
   "id": "7b9542c7f15f419b",
   "outputs": [],
   "execution_count": 5
  },
  {
   "metadata": {
    "ExecuteTime": {
     "end_time": "2024-09-18T00:52:01.438431Z",
     "start_time": "2024-09-18T00:51:51.102955Z"
    }
   },
   "cell_type": "code",
   "source": [
    "from evaluators.technical_impact_evaluator import TechnicalImpactEvaluator\n",
    "\n",
    "evaluator = TechnicalImpactEvaluator()\n",
    "evaluator.evaluate('CVE-2024-21762')"
   ],
   "id": "9a742bce8317337f",
   "outputs": [
    {
     "name": "stderr",
     "output_type": "stream",
     "text": [
      "WARNING: All log messages before absl::InitializeLog() is called are written to STDERR\n",
      "I0000 00:00:1726620712.113788 113160264 check_gcp_environment_no_op.cc:29] ALTS: Platforms other than Linux and Windows are not supported\n"
     ]
    },
    {
     "data": {
      "text/plain": [
       "{'cve_id': 'CVE-2024-21762',\n",
       " 'assessment': 'total',\n",
       " 'justification': 'CVE-2024-21762 allows attackers to execute arbitrary code on Fortinet FortiOS and FortiProxy. This vulnerability enables attackers to bypass authentication, potentially granting them full privileges and control over the affected system. The ability to execute arbitrary code signifies that an attacker can install and run any software on the compromised system, giving them total control.',\n",
       " 'confidence': 0.9}"
      ]
     },
     "execution_count": 6,
     "metadata": {},
     "output_type": "execute_result"
    }
   ],
   "execution_count": 6
  },
  {
   "metadata": {
    "ExecuteTime": {
     "end_time": "2024-09-18T00:52:31.459616Z",
     "start_time": "2024-09-18T00:52:27.793622Z"
    }
   },
   "cell_type": "code",
   "source": [
    "evaluator = TechnicalImpactEvaluator(llm='openai')\n",
    "evaluator.evaluate('CVE-2024-21762')"
   ],
   "id": "39ff4b5db921a6e6",
   "outputs": [
    {
     "data": {
      "text/plain": [
       "{'cve_id': 'CVE-2024-21762',\n",
       " 'assessment': 'total',\n",
       " 'justification': \"CVE-2024-21762 is an out-of-bounds write vulnerability in Fortinet FortiOS and FortiProxy that allows attackers to execute unauthorized code or commands through specially crafted requests. The affected versions range from FortiOS 6.0.0 to 7.4.2 and FortiProxy 1.0.0 to 7.4.2. The CVSS score of 9.8 (classified as CRITICAL) indicates a high impact on confidentiality, integrity, and availability (denoted by C:H/I:H/A:H) with no required privileges (PR:N) and no user interaction (UI:N). This suggests that an attacker can fully exploit the vulnerable component. Specifically, the ability to execute arbitrary code implies that the attacker can install and run arbitrary software and potentially gain full privileges, meeting the conditions for a 'total' technical impact assessment.\",\n",
       " 'confidence': 1}"
      ]
     },
     "execution_count": 7,
     "metadata": {},
     "output_type": "execute_result"
    }
   ],
   "execution_count": 7
  },
  {
   "metadata": {},
   "cell_type": "code",
   "outputs": [],
   "execution_count": null,
   "source": "",
   "id": "fd81567c6b85e292"
  }
 ],
 "metadata": {
  "kernelspec": {
   "display_name": "Python 3",
   "language": "python",
   "name": "python3"
  },
  "language_info": {
   "codemirror_mode": {
    "name": "ipython",
    "version": 2
   },
   "file_extension": ".py",
   "mimetype": "text/x-python",
   "name": "python",
   "nbconvert_exporter": "python",
   "pygments_lexer": "ipython2",
   "version": "2.7.6"
  }
 },
 "nbformat": 4,
 "nbformat_minor": 5
}
